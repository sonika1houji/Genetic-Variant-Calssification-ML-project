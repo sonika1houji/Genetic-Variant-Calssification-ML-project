{
 "cells": [
  {
   "cell_type": "markdown",
   "metadata": {
    "colab_type": "text",
    "id": "50Bz8qaTfCDd"
   },
   "source": [
    "# Genetic Variant Classification "
   ]
  },
  {
   "cell_type": "markdown",
   "metadata": {
    "colab_type": "text",
    "id": "mP5EjBMjfYmp"
   },
   "source": [
    "---\n",
    "# **Table of Contents**\n",
    "---\n",
    "\n",
    "**1.** [**Introduction**](#Section1)<br>\n",
    "**2.** [**Problem Statement**](#Section2)<br>\n",
    "**3.** [**Installing & Importing Libraries**](#Section3)<br>\n",
    "  - **3.1** [**Installing Libraries**](#Section31)\n",
    "  - **3.2** [**Upgrading Libraries**](#Section32)\n",
    "  - **3.3** [**Importing Libraries**](#Section33)\n",
    "\n",
    "**4.** [**Data Acquisition & Description**](#Section4)<br>\n",
    "  - **4.1** [**Data Description**](#Section41)\n",
    "  - **4.2** [**Data Information**](#Section42)\n",
    "  - **4.3** [**Numerical Data Distribution**](#Section43)\n",
    "  - **4.4** [**Pre Profiling Report**](#Section44)\n",
    "\n",
    "**5.** [**Data Pre-processing**](#Section5)<br>\n",
    "\n",
    "**6.** [**Exploratory Data Analysis**](#Section6)<br>\n",
    "\n",
    "**7.** [**Post Data Processing & Feature Selection**](#Section7)<br>\n",
    "\n",
    "**8.** [**Model Development & Evaluation**](#Section8)<br>\n",
    "  - **8.1** [**Essential Features Models**](#Section81)\n",
    "  - **8.2** [**Fine Tuning of Model**](#Section82)\n",
    "  - **8.3** [**Final Model**](#Section83)\n",
    "  \n",
    "**9.** [**Conclusion**](#Section9)<br>"
   ]
  },
  {
   "cell_type": "markdown",
   "metadata": {
    "colab_type": "text",
    "id": "8QOl2zomDhuE"
   },
   "source": [
    "<a id = Section1></a>\n",
    "\n",
    "---\n",
    "# **1. Introduction**\n",
    "\n",
    "---\n",
    "\n",
    "**What is a Gene?**<br>\n",
    "- Gene is a unit of **hereditary information** that occupies a **fixed position on a chromosome**. Genes achieve their effects by directing the synthesis of proteins.\n",
    "- The **number of genes** in an organism’s genome (the entire set of chromosomes) **varies significantly between species**.\n",
    "\n",
    "\n",
    "\n",
    "**Chemical structure of genes**<br>\n",
    "- Genes are composed of **deoxyribonucleic acid (DNA)** except in some viruses, which have genes consisting of a closely related compound called **ribonucleic acid (RNA)**.\n",
    "\n",
    "**Genetic mutation**<br>\n",
    "- **Mutations** occur when the **number or order of bases** in a gene is **disrupted**. \n",
    "- A nucleotide is the **basic building block of nucleic acids**. RNA and DNA are polymers made of long chains of nucleotides. A nucleotide consists of a sugar molecule (either ribose in RNA or deoxyribose in DNA) attached to a **phosphate group** and a **nitrogen-containing base**.\n",
    "- **Nucleotides** can be **deleted, doubled, rearranged, or replaced, each alteration having a particular effect.**\n",
    "- **Mutation** generally has little or no effect, but, when it does alter an organism, **the change may be lethal or cause disease.**\n",
    "\n",
    "\n",
    "**Variant Classification**<br>\n",
    "- **After the relevant information has been gathered** and the variant has been thoroughly researched, **a formal variant classification is assigned**.\n",
    "\n",
    "- A **formal classification** is meant to help **answer two questions** about the **clinical significance of the variant.**\n",
    "\n",
    "- **From a diagnostic perspective**: Does this variant, in the correct genetic background, provide an explanation for disease in an affected individual?\n",
    "- **From a predictive perspective**: Narrowly applied to highly penetrant conditions: Is an individual who inherits this variant likely to develop disease?\n",
    "\n",
    "Below classifications are defined for a gene.\n",
    "- **Pathogenic**: This variant directly contributes to the development of disease.\n",
    "- **Likely pathogenic**: There is a high likelihood (greater than 90% certainty) that this variant is disease-causing.\n",
    "- **Uncertain significance**: There is not enough information at this time to support a more definitive classification of this variant.\n",
    "- **Likely benign**: This variant is not expected to have a major effect on disease\n",
    "- **Benign**: This variant does not cause disease.\n",
    "- **VUS (Variant of uncertain significance)** - Less or nothing is known about this variant."
   ]
  },
  {
   "cell_type": "markdown",
   "metadata": {
    "colab_type": "text",
    "id": "tcWcWZXLn_Eg"
   },
   "source": [
    "\n",
    "\n",
    "\n",
    "- **ClinVar** is a public resource containing annotations about human genetic variants. \n",
    "- These variants are (usually manually) classified by **clinical laboratories** on a categorical spectrum ranging from **benign, likely benign, uncertain significance, likely pathogenic, and pathogenic**. \n",
    "- Variants that have **conflicting classifications** (from laboratory to laboratory) can cause confusion when clinicians or researchers try to interpret whether the **variant has an impact on the disease of a given patient**.\n",
    "\n",
    "- Conflicting classifications are when **two of any of the following three categories are present for one variant**, two submissions of one category are not considered conflicting.\n",
    "\n",
    "  - Likely Benign or Benign\n",
    "  - VUS (Variant of uncertain significance)\n",
    "  - Likely Pathogenic or Pathogenic"
   ]
  },
  {
   "cell_type": "markdown",
   "metadata": {
    "colab_type": "text",
    "id": "CiwPOODUPlh1"
   },
   "source": [
    "<a id = Section2></a>\n",
    "\n",
    "---\n",
    "# **2. Problem Statement**\n",
    "---\n",
    "\n",
    "- Most of the times, the **DNA sequence** that makes up the genes of humans has **certain imperfections** that can lead to **incurable diseases**. \n",
    "- So if we are able to identify the **gene classifications**; whether the genes are conflicting or not; it would be helpful in **altering the DNA sequence** that makes up a gene permanently, such that the sequence differs from what is found in most people and some **adverse incurable, hereditary diseases can be controlled** in the future generations.\n",
    "\n",
    "- The objective is to **predict whether a ClinVar variant will have conflicting classifications**. \n",
    "\n",
    "\n",
    "\n",
    "**Scenario**:\n",
    "\n",
    "- A **genetic research company** wants to identify whether the gene information available with them, will be able to **classify a gene as conflicting or not**. This can be done with the help of machine learning algorithms.\n",
    "\n",
    "- This is presented here as a binary classification problem, where **each record** in the dataset is a **genetic variant**.\n",
    "\n",
    "- With this, they would be able to work on **genetic mutations**; which will be helpful for generations to come.\n",
    "\n",
    "- The **target variable** in the dataset that we will be working on is **CLASS**.\n",
    "\n",
    "|Target Feature|Potential Values|\n",
    "| :-- | :-- |\n",
    "|CLASS|0: Not conflicting|\n",
    "||1: Conflicting|\n"
   ]
  },
  {
   "cell_type": "markdown",
   "metadata": {
    "colab_type": "text",
    "id": "U3QWAR74U0oc"
   },
   "source": [
    "<a id = Section3></a>\n",
    "\n",
    "---\n",
    "# **3. Installing and importing libraries**\n",
    "---"
   ]
  },
  {
   "cell_type": "markdown",
   "metadata": {
    "colab_type": "text",
    "id": "QXAmIZk1-myV"
   },
   "source": [
    "<a id = Section31></a>\n",
    "### **3.1 Installing Libraries**"
   ]
  },
  {
   "cell_type": "code",
   "execution_count": 0,
   "metadata": {
    "colab": {},
    "colab_type": "code",
    "collapsed": true,
    "id": "jTBDnmP28v4R"
   },
   "outputs": [],
   "source": [
    "!pip install -q datascience                   # Package that is required by pandas profiling\n",
    "!pip install -q pandas-profiling              # Toolbox for Generating Statistics Report\n",
    "!pip install -q yellowbrick                   # Toolbox for Measuring Machine Performance"
   ]
  },
  {
   "cell_type": "markdown",
   "metadata": {
    "colab_type": "text",
    "id": "pbRtrY3t-ru0"
   },
   "source": [
    "<a id = Section32></a>\n",
    "### **3.2 Upgrading Libraries**\n",
    "\n",
    "**Note:** After upgrading, you need to restart the runtime. Make sure not to execute the cell above (3.1) and below (3.2) again after restarting the runtime."
   ]
  },
  {
   "cell_type": "code",
   "execution_count": 0,
   "metadata": {
    "colab": {},
    "colab_type": "code",
    "collapsed": true,
    "id": "Mh0KVDoC-pms"
   },
   "outputs": [],
   "source": [
    "!pip install -q --upgrade pandas-profiling\n",
    "!pip install -q --upgrade yellowbrick"
   ]
  },
  {
   "cell_type": "markdown",
   "metadata": {
    "colab_type": "text",
    "id": "iAvNm8sO-unu"
   },
   "source": [
    "<a id = Section33></a>\n",
    "### **3.3 Importing Libraries**"
   ]
  },
  {
   "cell_type": "code",
   "execution_count": 0,
   "metadata": {
    "colab": {},
    "colab_type": "code",
    "collapsed": true,
    "id": "zPGSGNGynU_v"
   },
   "outputs": [],
   "source": [
    "# For Panel Data Analysis\n",
    "import pandas as pd\n",
    "import numpy as np\n",
    "import re\n",
    "import missingno as msno\n",
    "\n",
    "#from pandas_profiling import ProfileReport\n",
    "\n",
    "# For Random seed values\n",
    "from random import randint\n",
    "\n",
    "# For Data Visualization\n",
    "import matplotlib.pyplot as plt\n",
    "plt.style.use('seaborn-whitegrid')                  \n",
    "%matplotlib inline\n",
    "import seaborn as sns\n",
    "\n",
    "# For Preprocessing\n",
    "import sklearn as sk\n",
    "\n",
    "# For Data Modeling\n",
    "from sklearn.model_selection import train_test_split\n",
    "from sklearn.metrics import classification_report, confusion_matrix, accuracy_score\n",
    "from sklearn.linear_model import LogisticRegression\n",
    "from xgboost import XGBClassifier\n",
    "from sklearn.ensemble import AdaBoostClassifier, BaggingClassifier, GradientBoostingClassifier,RandomForestClassifier\n",
    "from sklearn.metrics import classification_report, confusion_matrix, accuracy_score\n",
    "from sklearn.tree import DecisionTreeClassifier\n",
    "from sklearn.neighbors import KNeighborsClassifier\n",
    "\n",
    "# For metrics evaluation\n",
    "from sklearn.metrics import accuracy_score,roc_auc_score, precision_recall_curve, classification_report, confusion_matrix, plot_confusion_matrix\n",
    "\n",
    "# To Disable Warnings\n",
    "import warnings\n",
    "warnings.filterwarnings(\"ignore\")"
   ]
  },
  {
   "cell_type": "markdown",
   "metadata": {
    "colab_type": "text",
    "id": "mVVDDPEmfrp-"
   },
   "source": [
    "<a id = Section4></a>\n",
    "\n",
    "---\n",
    "# **4. Data Acquisition and Description**\n",
    "---\n",
    "\n",
    "- This is a gene data based on the various features that are present in the **structure** and the **classification** of a human gene.\n",
    "- The description of the data is as follows:\n",
    "\n",
    "| Records | Features | Dataset Size |\n",
    "| :-- | :-- | :-- |\n",
    "| 65188 | 46 | 29 MB |\n",
    " \n",
    "\n",
    "\n",
    "| Id | Features | Description |\n",
    "| :-- | :--| :--| \n",
    "|01| **CHROM** | Chromosome the variant is located on |\n",
    "|02| **POS** | Position on the chromosome the variant is located on |\n",
    "|03| **REF** | Reference Allele |\n",
    "|04| **ALT** | Alternate Allele |\n",
    "|05| **AF_ESP** | Allele frequencies from GO-ESP |\n",
    "|06| **AF_EXAC** | Allele frequencies from ExAC |\n",
    "|07| **AF_TGP** | Allele frequencies from the 1000 genomes project |\n",
    "|08| **CLNDISDB** | Tag-value pairs of disease database name and identifier |\n",
    "|09| **CLNDISDBINCL** | For included Variant: Tag-value pairs of disease database name and identifier |\n",
    "|10| **CLNDN** | ClinVar's preferred disease name for the concept specified by disease identifiers in CLNDISDB |\n",
    "|11| **CLNDNINCL** | For included Variant : ClinVar's preferred disease name for the concept specified by disease identifiers in CLNDISDB |\n",
    "|12| **CLNHGVS** | Top-level (primary assembly, alt, or patch) HGVS expression |\n",
    "|13| **CLNSIGINCL** | Clinical significance for a haplotype or genotype that includes this variant. Reported as pairs of VariationID:clinical significance |\n",
    "|14| **CLNVC** | Variant Type |\n",
    "|15| **CLNVI** | The variant's clinical sources reported as tag-value pairs of database and variant identifier |\n",
    "|16| **MC** | Comma separated list of molecular consequence in the form of Sequence Ontology ID|molecular_consequence |\n",
    "|17| **ORIGIN** | Allele origin. One or more of the following values may be added:<br><br>1 - germline<br><br>2 - somatic<br><br>4 - inherited<br><br>8 - paternal<br><br>16 - maternal<br><br>32 - de-novo<br><br>64 - biparental<br><br>128 - uniparental<br><br>256 - not-tested<br><br>512 - tested-inconclusive<br><br>1073741824 - other |\n",
    "|18| **SSR** | Variant Suspect Reason Codes. One or more of the following values may be added:<br><br>0 - unspecified<br><br>1 - Paralog<br><br>2 - byEST<br><br>4 - oldAlign<br><br>8 - Para_EST<br><br>16 - 1kg_failed<br><br>1024 - other |\n",
    "|19| **CLASS** | The binary representation of the target class. 0 represents no conflicting submissions and 1 represents conflicting submissions |\n",
    "|20| **Allele** | To calculate the consequence |\n",
    "|21| **Consequence** | Type of consequence: https://useast.ensembl.org/info/genome/variation/prediction/predicted_data.html#consequences |\n",
    "|22| **IMPACT** | The impact modifier for the consequence type |\n",
    "|23| **SYMBOL** | Gene Name |\n",
    "|24| **Feature_type** | Type of feature. Currently one of Transcript, RegulatoryFeature, MotifFeature |\n",
    "|25| **Feature** | Ensembl stable ID of feature |\n",
    "|26| **BIOTYPE** | Biotype of transcript or regulatory feature |\n",
    "|27| **EXON** | The exon number (out of total number) |\n",
    "|28| **INTRON** | The intron number (out of total number) |\n",
    "|29| **cDNA_position** | Relative position of base pair in cDNA sequence |\n",
    "|30| **CDS_position** | Relative position of base pair in coding sequence |\n",
    "|31| **Protein_position** | Relative position of amino acid in protein |\n",
    "|32| **Amino_acids** | Only given if the variant affects the protein-coding sequence |\n",
    "|33| **Codons** | Alternative codons with the variant base in upper case |\n",
    "|34| **DISTANCE** | Shortest distance from variant to transcript |\n",
    "|35| **STRAND** | Defined as + (forward) or - (reverse) |\n",
    "|36| **BAM_EDIT** | Indicates success or failure of edit using BAM file |\n",
    "|37| **SIFT** | The SIFT prediction and/or score, with both given as prediction(score) |\n",
    "|38| **PolyPhen** | The PolyPhen prediction and/or score |\n",
    "|39| **MOTIF_NAME** | The source and identifier of a transcription factor binding profile aligned at this position |\n",
    "|40| **MOTIF_POS** | The relative position of the variation in the aligned TFBP |\n",
    "|41| **HIGH_INF_POS** | Flag indicating if the variant falls in a high information position of a transcription factor binding profile (TFBP) |\n",
    "|42| **MOTIF_SCORE_CHANGE** | The difference in motif score of the reference and variant sequences for the TFBP |\n",
    "|43| **LoFtool** | Loss of Function tolerance score for loss of function variants: https://github.com/konradjk/loftee |\n",
    "|44| **MOTIF_POS** | The relative position of the variation in the aligned TFBP |\n",
    "|45| **CADD_PHRED** | Phred-scaled CADD score |\n",
    "|46| **CADD_RAW** | Score of the deleteriousness of variants: http://cadd.gs.washington.edu/ |\n",
    "|47| **BLOSUM62** | Scoring matrix in alignment problems considering protein strings |"
   ]
  },
  {
   "cell_type": "code",
   "execution_count": 50,
   "metadata": {
    "colab": {
     "base_uri": "https://localhost:8080/",
     "height": 34
    },
    "colab_type": "code",
    "executionInfo": {
     "elapsed": 25774,
     "status": "ok",
     "timestamp": 1591248941537,
     "user": {
      "displayName": "Prerna Bajaj",
      "photoUrl": "",
      "userId": "11609015255205782524"
     },
     "user_tz": -330
    },
    "id": "ooBIeRVv2eH-",
    "outputId": "d2d2ae53-af1f-47fc-ca98-c367e6e0e620"
   },
   "outputs": [
    {
     "name": "stdout",
     "output_type": "stream",
     "text": [
      "Data Shape:  (65188, 46)\n"
     ]
    }
   ],
   "source": [
    "g_data = pd.read_csv('https://raw.githubusercontent.com/insaid2018/Domain_Case_Studies/master/Healthcare/Heart%20Disease%20Diagnosis/Data/clinvar_conflicting.csv')\n",
    "print(\"Data Shape: \",g_data.shape)"
   ]
  },
  {
   "cell_type": "markdown",
   "metadata": {
    "colab_type": "text",
    "id": "xywNC8amd3Ea"
   },
   "source": [
    "**Examine first 5 rows of the data**"
   ]
  },
  {
   "cell_type": "code",
   "execution_count": 51,
   "metadata": {
    "colab": {
     "base_uri": "https://localhost:8080/",
     "height": 224
    },
    "colab_type": "code",
    "executionInfo": {
     "elapsed": 25752,
     "status": "ok",
     "timestamp": 1591248941542,
     "user": {
      "displayName": "Prerna Bajaj",
      "photoUrl": "",
      "userId": "11609015255205782524"
     },
     "user_tz": -330
    },
    "id": "WWlet43AdwmL",
    "outputId": "d135b662-bc88-4c33-f106-a949088ec4f8"
   },
   "outputs": [
    {
     "data": {
      "text/html": [
       "<div>\n",
       "<style scoped>\n",
       "    .dataframe tbody tr th:only-of-type {\n",
       "        vertical-align: middle;\n",
       "    }\n",
       "\n",
       "    .dataframe tbody tr th {\n",
       "        vertical-align: top;\n",
       "    }\n",
       "\n",
       "    .dataframe thead th {\n",
       "        text-align: right;\n",
       "    }\n",
       "</style>\n",
       "<table border=\"1\" class=\"dataframe\">\n",
       "  <thead>\n",
       "    <tr style=\"text-align: right;\">\n",
       "      <th></th>\n",
       "      <th>CHROM</th>\n",
       "      <th>POS</th>\n",
       "      <th>REF</th>\n",
       "      <th>ALT</th>\n",
       "      <th>AF_ESP</th>\n",
       "      <th>AF_EXAC</th>\n",
       "      <th>AF_TGP</th>\n",
       "      <th>CLNDISDB</th>\n",
       "      <th>CLNDISDBINCL</th>\n",
       "      <th>CLNDN</th>\n",
       "      <th>CLNDNINCL</th>\n",
       "      <th>CLNHGVS</th>\n",
       "      <th>CLNSIGINCL</th>\n",
       "      <th>CLNVC</th>\n",
       "      <th>CLNVI</th>\n",
       "      <th>MC</th>\n",
       "      <th>ORIGIN</th>\n",
       "      <th>SSR</th>\n",
       "      <th>CLASS</th>\n",
       "      <th>Allele</th>\n",
       "      <th>Consequence</th>\n",
       "      <th>IMPACT</th>\n",
       "      <th>SYMBOL</th>\n",
       "      <th>Feature_type</th>\n",
       "      <th>Feature</th>\n",
       "      <th>BIOTYPE</th>\n",
       "      <th>EXON</th>\n",
       "      <th>INTRON</th>\n",
       "      <th>cDNA_position</th>\n",
       "      <th>CDS_position</th>\n",
       "      <th>Protein_position</th>\n",
       "      <th>Amino_acids</th>\n",
       "      <th>Codons</th>\n",
       "      <th>DISTANCE</th>\n",
       "      <th>STRAND</th>\n",
       "      <th>BAM_EDIT</th>\n",
       "      <th>SIFT</th>\n",
       "      <th>PolyPhen</th>\n",
       "      <th>MOTIF_NAME</th>\n",
       "      <th>MOTIF_POS</th>\n",
       "      <th>HIGH_INF_POS</th>\n",
       "      <th>MOTIF_SCORE_CHANGE</th>\n",
       "      <th>LoFtool</th>\n",
       "      <th>CADD_PHRED</th>\n",
       "      <th>CADD_RAW</th>\n",
       "      <th>BLOSUM62</th>\n",
       "    </tr>\n",
       "  </thead>\n",
       "  <tbody>\n",
       "    <tr>\n",
       "      <th>0</th>\n",
       "      <td>1</td>\n",
       "      <td>1168180</td>\n",
       "      <td>G</td>\n",
       "      <td>C</td>\n",
       "      <td>0.0771</td>\n",
       "      <td>0.10020</td>\n",
       "      <td>0.1066</td>\n",
       "      <td>MedGen:CN169374</td>\n",
       "      <td>NaN</td>\n",
       "      <td>not_specified</td>\n",
       "      <td>NaN</td>\n",
       "      <td>NC_000001.10:g.1168180G&gt;C</td>\n",
       "      <td>NaN</td>\n",
       "      <td>single_nucleotide_variant</td>\n",
       "      <td>UniProtKB_(protein):Q96L58#VAR_059317</td>\n",
       "      <td>SO:0001583|missense_variant</td>\n",
       "      <td>1</td>\n",
       "      <td>NaN</td>\n",
       "      <td>0</td>\n",
       "      <td>C</td>\n",
       "      <td>missense_variant</td>\n",
       "      <td>MODERATE</td>\n",
       "      <td>B3GALT6</td>\n",
       "      <td>Transcript</td>\n",
       "      <td>NM_080605.3</td>\n",
       "      <td>protein_coding</td>\n",
       "      <td>1/1</td>\n",
       "      <td>NaN</td>\n",
       "      <td>552</td>\n",
       "      <td>522</td>\n",
       "      <td>174</td>\n",
       "      <td>E/D</td>\n",
       "      <td>gaG/gaC</td>\n",
       "      <td>NaN</td>\n",
       "      <td>1.0</td>\n",
       "      <td>NaN</td>\n",
       "      <td>tolerated</td>\n",
       "      <td>benign</td>\n",
       "      <td>NaN</td>\n",
       "      <td>NaN</td>\n",
       "      <td>NaN</td>\n",
       "      <td>NaN</td>\n",
       "      <td>NaN</td>\n",
       "      <td>1.053</td>\n",
       "      <td>-0.208682</td>\n",
       "      <td>2.0</td>\n",
       "    </tr>\n",
       "    <tr>\n",
       "      <th>1</th>\n",
       "      <td>1</td>\n",
       "      <td>1470752</td>\n",
       "      <td>G</td>\n",
       "      <td>A</td>\n",
       "      <td>0.0000</td>\n",
       "      <td>0.00000</td>\n",
       "      <td>0.0000</td>\n",
       "      <td>MedGen:C1843891,OMIM:607454,Orphanet:ORPHA9877...</td>\n",
       "      <td>NaN</td>\n",
       "      <td>Spinocerebellar_ataxia_21|not_provided</td>\n",
       "      <td>NaN</td>\n",
       "      <td>NC_000001.10:g.1470752G&gt;A</td>\n",
       "      <td>NaN</td>\n",
       "      <td>single_nucleotide_variant</td>\n",
       "      <td>OMIM_Allelic_Variant:616101.0001|UniProtKB_(pr...</td>\n",
       "      <td>SO:0001583|missense_variant</td>\n",
       "      <td>1</td>\n",
       "      <td>NaN</td>\n",
       "      <td>0</td>\n",
       "      <td>A</td>\n",
       "      <td>missense_variant</td>\n",
       "      <td>MODERATE</td>\n",
       "      <td>TMEM240</td>\n",
       "      <td>Transcript</td>\n",
       "      <td>NM_001114748.1</td>\n",
       "      <td>protein_coding</td>\n",
       "      <td>4/4</td>\n",
       "      <td>NaN</td>\n",
       "      <td>523</td>\n",
       "      <td>509</td>\n",
       "      <td>170</td>\n",
       "      <td>P/L</td>\n",
       "      <td>cCg/cTg</td>\n",
       "      <td>NaN</td>\n",
       "      <td>-1.0</td>\n",
       "      <td>OK</td>\n",
       "      <td>deleterious_low_confidence</td>\n",
       "      <td>benign</td>\n",
       "      <td>NaN</td>\n",
       "      <td>NaN</td>\n",
       "      <td>NaN</td>\n",
       "      <td>NaN</td>\n",
       "      <td>NaN</td>\n",
       "      <td>31.000</td>\n",
       "      <td>6.517838</td>\n",
       "      <td>-3.0</td>\n",
       "    </tr>\n",
       "    <tr>\n",
       "      <th>2</th>\n",
       "      <td>1</td>\n",
       "      <td>1737942</td>\n",
       "      <td>A</td>\n",
       "      <td>G</td>\n",
       "      <td>0.0000</td>\n",
       "      <td>0.00001</td>\n",
       "      <td>0.0000</td>\n",
       "      <td>Human_Phenotype_Ontology:HP:0000486,MedGen:C00...</td>\n",
       "      <td>NaN</td>\n",
       "      <td>Strabismus|Nystagmus|Hypothyroidism|Intellectu...</td>\n",
       "      <td>NaN</td>\n",
       "      <td>NC_000001.10:g.1737942A&gt;G</td>\n",
       "      <td>NaN</td>\n",
       "      <td>single_nucleotide_variant</td>\n",
       "      <td>OMIM_Allelic_Variant:139380.0002|UniProtKB_(pr...</td>\n",
       "      <td>SO:0001583|missense_variant,SO:0001623|5_prime...</td>\n",
       "      <td>35</td>\n",
       "      <td>NaN</td>\n",
       "      <td>1</td>\n",
       "      <td>G</td>\n",
       "      <td>missense_variant</td>\n",
       "      <td>MODERATE</td>\n",
       "      <td>GNB1</td>\n",
       "      <td>Transcript</td>\n",
       "      <td>NM_002074.4</td>\n",
       "      <td>protein_coding</td>\n",
       "      <td>6/12</td>\n",
       "      <td>NaN</td>\n",
       "      <td>632</td>\n",
       "      <td>239</td>\n",
       "      <td>80</td>\n",
       "      <td>I/T</td>\n",
       "      <td>aTc/aCc</td>\n",
       "      <td>NaN</td>\n",
       "      <td>-1.0</td>\n",
       "      <td>OK</td>\n",
       "      <td>deleterious</td>\n",
       "      <td>probably_damaging</td>\n",
       "      <td>NaN</td>\n",
       "      <td>NaN</td>\n",
       "      <td>NaN</td>\n",
       "      <td>NaN</td>\n",
       "      <td>NaN</td>\n",
       "      <td>28.100</td>\n",
       "      <td>6.061752</td>\n",
       "      <td>-1.0</td>\n",
       "    </tr>\n",
       "    <tr>\n",
       "      <th>3</th>\n",
       "      <td>1</td>\n",
       "      <td>2160305</td>\n",
       "      <td>G</td>\n",
       "      <td>A</td>\n",
       "      <td>0.0000</td>\n",
       "      <td>0.00000</td>\n",
       "      <td>0.0000</td>\n",
       "      <td>MedGen:C1321551,OMIM:182212,SNOMED_CT:83092002...</td>\n",
       "      <td>NaN</td>\n",
       "      <td>Shprintzen-Goldberg_syndrome|not_provided</td>\n",
       "      <td>NaN</td>\n",
       "      <td>NC_000001.10:g.2160305G&gt;A</td>\n",
       "      <td>NaN</td>\n",
       "      <td>single_nucleotide_variant</td>\n",
       "      <td>OMIM_Allelic_Variant:164780.0004|UniProtKB_(pr...</td>\n",
       "      <td>SO:0001583|missense_variant</td>\n",
       "      <td>33</td>\n",
       "      <td>NaN</td>\n",
       "      <td>0</td>\n",
       "      <td>A</td>\n",
       "      <td>missense_variant</td>\n",
       "      <td>MODERATE</td>\n",
       "      <td>SKI</td>\n",
       "      <td>Transcript</td>\n",
       "      <td>XM_005244775.1</td>\n",
       "      <td>protein_coding</td>\n",
       "      <td>1/7</td>\n",
       "      <td>NaN</td>\n",
       "      <td>132</td>\n",
       "      <td>100</td>\n",
       "      <td>34</td>\n",
       "      <td>G/S</td>\n",
       "      <td>Ggc/Agc</td>\n",
       "      <td>NaN</td>\n",
       "      <td>1.0</td>\n",
       "      <td>NaN</td>\n",
       "      <td>NaN</td>\n",
       "      <td>NaN</td>\n",
       "      <td>NaN</td>\n",
       "      <td>NaN</td>\n",
       "      <td>NaN</td>\n",
       "      <td>NaN</td>\n",
       "      <td>NaN</td>\n",
       "      <td>22.500</td>\n",
       "      <td>3.114491</td>\n",
       "      <td>NaN</td>\n",
       "    </tr>\n",
       "    <tr>\n",
       "      <th>4</th>\n",
       "      <td>1</td>\n",
       "      <td>2160305</td>\n",
       "      <td>G</td>\n",
       "      <td>T</td>\n",
       "      <td>0.0000</td>\n",
       "      <td>0.00000</td>\n",
       "      <td>0.0000</td>\n",
       "      <td>MedGen:C1321551,OMIM:182212,SNOMED_CT:83092002</td>\n",
       "      <td>NaN</td>\n",
       "      <td>Shprintzen-Goldberg_syndrome</td>\n",
       "      <td>NaN</td>\n",
       "      <td>NC_000001.10:g.2160305G&gt;T</td>\n",
       "      <td>NaN</td>\n",
       "      <td>single_nucleotide_variant</td>\n",
       "      <td>OMIM_Allelic_Variant:164780.0005|UniProtKB_(pr...</td>\n",
       "      <td>SO:0001583|missense_variant</td>\n",
       "      <td>33</td>\n",
       "      <td>NaN</td>\n",
       "      <td>0</td>\n",
       "      <td>T</td>\n",
       "      <td>missense_variant</td>\n",
       "      <td>MODERATE</td>\n",
       "      <td>SKI</td>\n",
       "      <td>Transcript</td>\n",
       "      <td>XM_005244775.1</td>\n",
       "      <td>protein_coding</td>\n",
       "      <td>1/7</td>\n",
       "      <td>NaN</td>\n",
       "      <td>132</td>\n",
       "      <td>100</td>\n",
       "      <td>34</td>\n",
       "      <td>G/C</td>\n",
       "      <td>Ggc/Tgc</td>\n",
       "      <td>NaN</td>\n",
       "      <td>1.0</td>\n",
       "      <td>NaN</td>\n",
       "      <td>NaN</td>\n",
       "      <td>NaN</td>\n",
       "      <td>NaN</td>\n",
       "      <td>NaN</td>\n",
       "      <td>NaN</td>\n",
       "      <td>NaN</td>\n",
       "      <td>NaN</td>\n",
       "      <td>24.700</td>\n",
       "      <td>4.766224</td>\n",
       "      <td>-3.0</td>\n",
       "    </tr>\n",
       "  </tbody>\n",
       "</table>\n",
       "</div>"
      ],
      "text/plain": [
       "  CHROM      POS REF ALT  ...  LoFtool  CADD_PHRED  CADD_RAW BLOSUM62\n",
       "0     1  1168180   G   C  ...      NaN       1.053 -0.208682      2.0\n",
       "1     1  1470752   G   A  ...      NaN      31.000  6.517838     -3.0\n",
       "2     1  1737942   A   G  ...      NaN      28.100  6.061752     -1.0\n",
       "3     1  2160305   G   A  ...      NaN      22.500  3.114491      NaN\n",
       "4     1  2160305   G   T  ...      NaN      24.700  4.766224     -3.0\n",
       "\n",
       "[5 rows x 46 columns]"
      ]
     },
     "execution_count": 51,
     "metadata": {
      "tags": []
     },
     "output_type": "execute_result"
    }
   ],
   "source": [
    "g_data.head()"
   ]
  },
  {
   "cell_type": "markdown",
   "metadata": {
    "colab_type": "text",
    "id": "IREAgmp5TrxC"
   },
   "source": [
    "<a id = Section41></a>\n",
    "### **4.1 Data Description**\n",
    "\n",
    "- In this section we will get **information about the data** and see some observations."
   ]
  },
  {
   "cell_type": "code",
   "execution_count": 52,
   "metadata": {
    "colab": {
     "base_uri": "https://localhost:8080/",
     "height": 34
    },
    "colab_type": "code",
    "executionInfo": {
     "elapsed": 25711,
     "status": "ok",
     "timestamp": 1591248941545,
     "user": {
      "displayName": "Prerna Bajaj",
      "photoUrl": "",
      "userId": "11609015255205782524"
     },
     "user_tz": -330
    },
    "id": "GvRB59SvTxl6",
    "outputId": "286ef0ad-b9ca-4fcf-b2b8-50a310da8045"
   },
   "outputs": [
    {
     "name": "stdout",
     "output_type": "stream",
     "text": [
      "Described Column Length: 15\n"
     ]
    }
   ],
   "source": [
    "print('Described Column Length:', len(g_data.describe().columns))"
   ]
  },
  {
   "cell_type": "code",
   "execution_count": 53,
   "metadata": {
    "colab": {
     "base_uri": "https://localhost:8080/",
     "height": 585
    },
    "colab_type": "code",
    "executionInfo": {
     "elapsed": 25689,
     "status": "ok",
     "timestamp": 1591248941549,
     "user": {
      "displayName": "Prerna Bajaj",
      "photoUrl": "",
      "userId": "11609015255205782524"
     },
     "user_tz": -330
    },
    "id": "Upg_BZD7T6nt",
    "outputId": "72172006-9b0b-4d9f-edd2-1b32128c9975"
   },
   "outputs": [
    {
     "data": {
      "text/html": [
       "<div>\n",
       "<style scoped>\n",
       "    .dataframe tbody tr th:only-of-type {\n",
       "        vertical-align: middle;\n",
       "    }\n",
       "\n",
       "    .dataframe tbody tr th {\n",
       "        vertical-align: top;\n",
       "    }\n",
       "\n",
       "    .dataframe thead th {\n",
       "        text-align: right;\n",
       "    }\n",
       "</style>\n",
       "<table border=\"1\" class=\"dataframe\">\n",
       "  <thead>\n",
       "    <tr style=\"text-align: right;\">\n",
       "      <th></th>\n",
       "      <th>count</th>\n",
       "      <th>mean</th>\n",
       "      <th>std</th>\n",
       "      <th>min</th>\n",
       "      <th>25%</th>\n",
       "      <th>50%</th>\n",
       "      <th>75%</th>\n",
       "      <th>max</th>\n",
       "    </tr>\n",
       "  </thead>\n",
       "  <tbody>\n",
       "    <tr>\n",
       "      <th>POS</th>\n",
       "      <td>65188.0</td>\n",
       "      <td>7.757594e+07</td>\n",
       "      <td>5.974051e+07</td>\n",
       "      <td>961.000000</td>\n",
       "      <td>3.254179e+07</td>\n",
       "      <td>5.797021e+07</td>\n",
       "      <td>1.127454e+08</td>\n",
       "      <td>2.476080e+08</td>\n",
       "    </tr>\n",
       "    <tr>\n",
       "      <th>AF_ESP</th>\n",
       "      <td>65188.0</td>\n",
       "      <td>1.451052e-02</td>\n",
       "      <td>5.779541e-02</td>\n",
       "      <td>0.000000</td>\n",
       "      <td>0.000000e+00</td>\n",
       "      <td>0.000000e+00</td>\n",
       "      <td>1.200000e-03</td>\n",
       "      <td>4.990000e-01</td>\n",
       "    </tr>\n",
       "    <tr>\n",
       "      <th>AF_EXAC</th>\n",
       "      <td>65188.0</td>\n",
       "      <td>1.449218e-02</td>\n",
       "      <td>5.954210e-02</td>\n",
       "      <td>0.000000</td>\n",
       "      <td>0.000000e+00</td>\n",
       "      <td>4.000000e-05</td>\n",
       "      <td>1.230000e-03</td>\n",
       "      <td>4.998900e-01</td>\n",
       "    </tr>\n",
       "    <tr>\n",
       "      <th>AF_TGP</th>\n",
       "      <td>65188.0</td>\n",
       "      <td>1.526350e-02</td>\n",
       "      <td>5.952741e-02</td>\n",
       "      <td>0.000000</td>\n",
       "      <td>0.000000e+00</td>\n",
       "      <td>0.000000e+00</td>\n",
       "      <td>1.600000e-03</td>\n",
       "      <td>4.998000e-01</td>\n",
       "    </tr>\n",
       "    <tr>\n",
       "      <th>ORIGIN</th>\n",
       "      <td>65188.0</td>\n",
       "      <td>1.342486e+00</td>\n",
       "      <td>5.688772e+00</td>\n",
       "      <td>0.000000</td>\n",
       "      <td>1.000000e+00</td>\n",
       "      <td>1.000000e+00</td>\n",
       "      <td>1.000000e+00</td>\n",
       "      <td>5.130000e+02</td>\n",
       "    </tr>\n",
       "    <tr>\n",
       "      <th>SSR</th>\n",
       "      <td>130.0</td>\n",
       "      <td>2.269231e+00</td>\n",
       "      <td>4.190777e+00</td>\n",
       "      <td>1.000000</td>\n",
       "      <td>1.000000e+00</td>\n",
       "      <td>1.000000e+00</td>\n",
       "      <td>1.000000e+00</td>\n",
       "      <td>1.600000e+01</td>\n",
       "    </tr>\n",
       "    <tr>\n",
       "      <th>CLASS</th>\n",
       "      <td>65188.0</td>\n",
       "      <td>2.521016e-01</td>\n",
       "      <td>4.342226e-01</td>\n",
       "      <td>0.000000</td>\n",
       "      <td>0.000000e+00</td>\n",
       "      <td>0.000000e+00</td>\n",
       "      <td>1.000000e+00</td>\n",
       "      <td>1.000000e+00</td>\n",
       "    </tr>\n",
       "    <tr>\n",
       "      <th>DISTANCE</th>\n",
       "      <td>108.0</td>\n",
       "      <td>8.257315e+02</td>\n",
       "      <td>1.069363e+03</td>\n",
       "      <td>1.000000</td>\n",
       "      <td>5.550000e+01</td>\n",
       "      <td>4.690000e+02</td>\n",
       "      <td>1.415000e+03</td>\n",
       "      <td>4.759000e+03</td>\n",
       "    </tr>\n",
       "    <tr>\n",
       "      <th>STRAND</th>\n",
       "      <td>65174.0</td>\n",
       "      <td>-6.659097e-03</td>\n",
       "      <td>9.999855e-01</td>\n",
       "      <td>-1.000000</td>\n",
       "      <td>-1.000000e+00</td>\n",
       "      <td>-1.000000e+00</td>\n",
       "      <td>1.000000e+00</td>\n",
       "      <td>1.000000e+00</td>\n",
       "    </tr>\n",
       "    <tr>\n",
       "      <th>MOTIF_POS</th>\n",
       "      <td>2.0</td>\n",
       "      <td>1.000000e+00</td>\n",
       "      <td>0.000000e+00</td>\n",
       "      <td>1.000000</td>\n",
       "      <td>1.000000e+00</td>\n",
       "      <td>1.000000e+00</td>\n",
       "      <td>1.000000e+00</td>\n",
       "      <td>1.000000e+00</td>\n",
       "    </tr>\n",
       "    <tr>\n",
       "      <th>MOTIF_SCORE_CHANGE</th>\n",
       "      <td>2.0</td>\n",
       "      <td>-8.000000e-02</td>\n",
       "      <td>2.404163e-02</td>\n",
       "      <td>-0.097000</td>\n",
       "      <td>-8.850000e-02</td>\n",
       "      <td>-8.000000e-02</td>\n",
       "      <td>-7.150000e-02</td>\n",
       "      <td>-6.300000e-02</td>\n",
       "    </tr>\n",
       "    <tr>\n",
       "      <th>LoFtool</th>\n",
       "      <td>60975.0</td>\n",
       "      <td>3.450584e-01</td>\n",
       "      <td>3.612384e-01</td>\n",
       "      <td>0.000069</td>\n",
       "      <td>2.430000e-02</td>\n",
       "      <td>1.570000e-01</td>\n",
       "      <td>7.100000e-01</td>\n",
       "      <td>1.000000e+00</td>\n",
       "    </tr>\n",
       "    <tr>\n",
       "      <th>CADD_PHRED</th>\n",
       "      <td>64096.0</td>\n",
       "      <td>1.568562e+01</td>\n",
       "      <td>1.083635e+01</td>\n",
       "      <td>0.001000</td>\n",
       "      <td>7.141000e+00</td>\n",
       "      <td>1.409000e+01</td>\n",
       "      <td>2.410000e+01</td>\n",
       "      <td>9.900000e+01</td>\n",
       "    </tr>\n",
       "    <tr>\n",
       "      <th>CADD_RAW</th>\n",
       "      <td>64096.0</td>\n",
       "      <td>2.554131e+00</td>\n",
       "      <td>2.961553e+00</td>\n",
       "      <td>-5.477391</td>\n",
       "      <td>4.629507e-01</td>\n",
       "      <td>1.642948e+00</td>\n",
       "      <td>4.381392e+00</td>\n",
       "      <td>4.655626e+01</td>\n",
       "    </tr>\n",
       "    <tr>\n",
       "      <th>BLOSUM62</th>\n",
       "      <td>25593.0</td>\n",
       "      <td>-4.022584e-01</td>\n",
       "      <td>1.872684e+00</td>\n",
       "      <td>-3.000000</td>\n",
       "      <td>-2.000000e+00</td>\n",
       "      <td>-1.000000e+00</td>\n",
       "      <td>1.000000e+00</td>\n",
       "      <td>3.000000e+00</td>\n",
       "    </tr>\n",
       "  </tbody>\n",
       "</table>\n",
       "</div>"
      ],
      "text/plain": [
       "                      count          mean  ...           75%           max\n",
       "POS                 65188.0  7.757594e+07  ...  1.127454e+08  2.476080e+08\n",
       "AF_ESP              65188.0  1.451052e-02  ...  1.200000e-03  4.990000e-01\n",
       "AF_EXAC             65188.0  1.449218e-02  ...  1.230000e-03  4.998900e-01\n",
       "AF_TGP              65188.0  1.526350e-02  ...  1.600000e-03  4.998000e-01\n",
       "ORIGIN              65188.0  1.342486e+00  ...  1.000000e+00  5.130000e+02\n",
       "SSR                   130.0  2.269231e+00  ...  1.000000e+00  1.600000e+01\n",
       "CLASS               65188.0  2.521016e-01  ...  1.000000e+00  1.000000e+00\n",
       "DISTANCE              108.0  8.257315e+02  ...  1.415000e+03  4.759000e+03\n",
       "STRAND              65174.0 -6.659097e-03  ...  1.000000e+00  1.000000e+00\n",
       "MOTIF_POS               2.0  1.000000e+00  ...  1.000000e+00  1.000000e+00\n",
       "MOTIF_SCORE_CHANGE      2.0 -8.000000e-02  ... -7.150000e-02 -6.300000e-02\n",
       "LoFtool             60975.0  3.450584e-01  ...  7.100000e-01  1.000000e+00\n",
       "CADD_PHRED          64096.0  1.568562e+01  ...  2.410000e+01  9.900000e+01\n",
       "CADD_RAW            64096.0  2.554131e+00  ...  4.381392e+00  4.655626e+01\n",
       "BLOSUM62            25593.0 -4.022584e-01  ...  1.000000e+00  3.000000e+00\n",
       "\n",
       "[15 rows x 8 columns]"
      ]
     },
     "execution_count": 53,
     "metadata": {
      "tags": []
     },
     "output_type": "execute_result"
    }
   ],
   "source": [
    "g_data.describe().T"
   ]
  },
  {
   "cell_type": "markdown",
   "metadata": {
    "colab_type": "text",
    "id": "w7AlO3AEUDmI"
   },
   "source": [
    "**Observations:**\n",
    "- There are a lot of missing values in the dataset. Around **30% values** of the entire dataset are **missing**.\n",
    "- There are **no duplicate rows**.\n",
    "- The features **REF**, **CLNDISDB**, **Allele** and **ALT** are highly cardinal.\n",
    "- The variable **ORIGIN** is **highly skewed** to the right."
   ]
  },
  {
   "cell_type": "markdown",
   "metadata": {
    "colab_type": "text",
    "id": "yDCdULRpUHVG"
   },
   "source": [
    "<a id = Section42></a>\n",
    "### **4.2 Data Information**\n",
    "\n",
    "- In this section we will see the **information about the types of features**."
   ]
  },
  {
   "cell_type": "code",
   "execution_count": 54,
   "metadata": {
    "colab": {
     "base_uri": "https://localhost:8080/",
     "height": 918
    },
    "colab_type": "code",
    "executionInfo": {
     "elapsed": 25657,
     "status": "ok",
     "timestamp": 1591248941552,
     "user": {
      "displayName": "Prerna Bajaj",
      "photoUrl": "",
      "userId": "11609015255205782524"
     },
     "user_tz": -330
    },
    "id": "oIethvQNnQiF",
    "outputId": "df355824-957a-4b3f-ad4b-c3d737b371a9"
   },
   "outputs": [
    {
     "name": "stdout",
     "output_type": "stream",
     "text": [
      "<class 'pandas.core.frame.DataFrame'>\n",
      "RangeIndex: 65188 entries, 0 to 65187\n",
      "Data columns (total 46 columns):\n",
      " #   Column              Non-Null Count  Dtype  \n",
      "---  ------              --------------  -----  \n",
      " 0   CHROM               65188 non-null  object \n",
      " 1   POS                 65188 non-null  int64  \n",
      " 2   REF                 65188 non-null  object \n",
      " 3   ALT                 65188 non-null  object \n",
      " 4   AF_ESP              65188 non-null  float64\n",
      " 5   AF_EXAC             65188 non-null  float64\n",
      " 6   AF_TGP              65188 non-null  float64\n",
      " 7   CLNDISDB            65188 non-null  object \n",
      " 8   CLNDISDBINCL        167 non-null    object \n",
      " 9   CLNDN               65188 non-null  object \n",
      " 10  CLNDNINCL           167 non-null    object \n",
      " 11  CLNHGVS             65188 non-null  object \n",
      " 12  CLNSIGINCL          167 non-null    object \n",
      " 13  CLNVC               65188 non-null  object \n",
      " 14  CLNVI               27659 non-null  object \n",
      " 15  MC                  64342 non-null  object \n",
      " 16  ORIGIN              65188 non-null  int64  \n",
      " 17  SSR                 130 non-null    float64\n",
      " 18  CLASS               65188 non-null  int64  \n",
      " 19  Allele              65188 non-null  object \n",
      " 20  Consequence         65188 non-null  object \n",
      " 21  IMPACT              65188 non-null  object \n",
      " 22  SYMBOL              65172 non-null  object \n",
      " 23  Feature_type        65174 non-null  object \n",
      " 24  Feature             65174 non-null  object \n",
      " 25  BIOTYPE             65172 non-null  object \n",
      " 26  EXON                56295 non-null  object \n",
      " 27  INTRON              8803 non-null   object \n",
      " 28  cDNA_position       56304 non-null  object \n",
      " 29  CDS_position        55233 non-null  object \n",
      " 30  Protein_position    55233 non-null  object \n",
      " 31  Amino_acids         55184 non-null  object \n",
      " 32  Codons              55184 non-null  object \n",
      " 33  DISTANCE            108 non-null    float64\n",
      " 34  STRAND              65174 non-null  float64\n",
      " 35  BAM_EDIT            31969 non-null  object \n",
      " 36  SIFT                24836 non-null  object \n",
      " 37  PolyPhen            24796 non-null  object \n",
      " 38  MOTIF_NAME          2 non-null      object \n",
      " 39  MOTIF_POS           2 non-null      float64\n",
      " 40  HIGH_INF_POS        2 non-null      object \n",
      " 41  MOTIF_SCORE_CHANGE  2 non-null      float64\n",
      " 42  LoFtool             60975 non-null  float64\n",
      " 43  CADD_PHRED          64096 non-null  float64\n",
      " 44  CADD_RAW            64096 non-null  float64\n",
      " 45  BLOSUM62            25593 non-null  float64\n",
      "dtypes: float64(12), int64(3), object(31)\n",
      "memory usage: 22.9+ MB\n"
     ]
    }
   ],
   "source": [
    "g_data.info()"
   ]
  },
  {
   "cell_type": "markdown",
   "metadata": {
    "colab_type": "text",
    "id": "sdnEsmoqUK6H"
   },
   "source": [
    "**Observations:**\n",
    "- There are **46 features**, out of which **12 are float**, **3 are integer values** and **32 are object type values**.\n",
    "- There are a **lot of features with missing values** in the dataset."
   ]
  },
  {
   "cell_type": "markdown",
   "metadata": {
    "colab_type": "text",
    "id": "iRaOFai8VTR1"
   },
   "source": [
    "<a id = Section43></a>\n",
    "### **4.3 Numerical Data Distribution**\n",
    "\n",
    "- We shall plot all **numerical features to analyze the distribution** of their past.\n",
    "- But **before** that we must **extract** all the **numerical** **features** which has been **performed** **below**."
   ]
  },
  {
   "cell_type": "code",
   "execution_count": 55,
   "metadata": {
    "colab": {
     "base_uri": "https://localhost:8080/",
     "height": 71
    },
    "colab_type": "code",
    "executionInfo": {
     "elapsed": 25628,
     "status": "ok",
     "timestamp": 1591248941555,
     "user": {
      "displayName": "Prerna Bajaj",
      "photoUrl": "",
      "userId": "11609015255205782524"
     },
     "user_tz": -330
    },
    "id": "mn-fuTr6UlaW",
    "outputId": "63e0246f-6249-4516-97b5-5341bf83adf6"
   },
   "outputs": [
    {
     "name": "stdout",
     "output_type": "stream",
     "text": [
      "Total Numerical Features: 15\n",
      "Features: ['POS', 'AF_ESP', 'AF_EXAC', 'AF_TGP', 'ORIGIN', 'SSR', 'CLASS', 'DISTANCE', 'STRAND', 'MOTIF_POS', 'MOTIF_SCORE_CHANGE', 'LoFtool', 'CADD_PHRED', 'CADD_RAW', 'BLOSUM62']\n"
     ]
    }
   ],
   "source": [
    "num_feature = []\n",
    "\n",
    "for i in g_data.columns.values:\n",
    "  if ((g_data[i].dtype == int) | (g_data[i].dtype == float)):\n",
    "    num_feature.append(i)\n",
    "    \n",
    "print('Total Numerical Features:', len(num_feature))\n",
    "print('Features:', num_feature)"
   ]
  },
  {
   "cell_type": "code",
   "execution_count": 56,
   "metadata": {
    "colab": {
     "base_uri": "https://localhost:8080/",
     "height": 767
    },
    "colab_type": "code",
    "executionInfo": {
     "elapsed": 30595,
     "status": "ok",
     "timestamp": 1591248946573,
     "user": {
      "displayName": "Prerna Bajaj",
      "photoUrl": "",
      "userId": "11609015255205782524"
     },
     "user_tz": -330
    },
    "id": "cuu0Dxa2VjU_",
    "outputId": "c2aaf291-25cd-490d-92fa-8bc92a098a9e"
   },
   "outputs": [
    {
     "data": {
      "image/png": "[encoded data removed]",
      "text/plain": [
       "<Figure size 1080x864 with 16 Axes>"
      ]
     },
     "metadata": {
      "needs_background": "light",
      "tags": []
     },
     "output_type": "display_data"
    }
   ],
   "source": [
    "# Creating subplots\n",
    "fig, axes = plt.subplots(nrows = 4, ncols = 4, sharex = False, figsize=(15, 12))\n",
    "\n",
    "# Generating random colors based on number of columns\n",
    "colors = []\n",
    "for i in range(len(num_feature)):\n",
    "  colors.append('#%06X' % randint(0, 0xFFFFFF))   \n",
    "                \n",
    "for ax, col, color in zip(axes.flat, num_feature, colors):\n",
    "  sns.distplot(a = g_data[col], bins = 50, ax = ax, color = color)\n",
    "  ax.set_title(col)\n",
    "  plt.setp(axes, xlabel = '')\n",
    "  ax.grid(False)\n",
    "plt.tight_layout()\n",
    "plt.show()"
   ]
  },
  {
   "cell_type": "markdown",
   "metadata": {
    "colab_type": "text",
    "id": "tgJDXxJrrv1A"
   },
   "source": [
    "**Observations:**\n",
    "- **Positively Skewed Features:**\n",
    "  - POS\n",
    "- **Negatively Skewed Features:**\n",
    "  - None\n",
    "- **Normally Skewed Features:**\n",
    "  - None"
   ]
  },
  {
   "cell_type": "markdown",
   "metadata": {
    "colab_type": "text",
    "id": "5czNPrzEWIx-"
   },
   "source": [
    "<a id = Section44></a>\n",
    "### **4.4 Pre Profiling Report**\n",
    "\n",
    "- For quick analysis pandas profiling is very handy.\n",
    "- Generates profile reports from a pandas DataFrame.\n",
    "- For each column statistics are presented in an interactive HTML report."
   ]
  },
  {
   "cell_type": "code",
   "execution_count": 0,
   "metadata": {
    "colab": {},
    "colab_type": "code",
    "collapsed": true,
    "id": "ynNY41vLnqN6"
   },
   "outputs": [],
   "source": [
    "#profile = ProfileReport(g_data)\n",
    "#profile.to_file(output_file=\"Pre Profiling Report.html\")\n",
    "#print('Pre-Profiling Accomplished!')"
   ]
  },
  {
   "cell_type": "code",
   "execution_count": 0,
   "metadata": {
    "colab": {},
    "colab_type": "code",
    "collapsed": true,
    "id": "Z1Z8H0j9sXyf"
   },
   "outputs": [],
   "source": [
    "# from google.colab import files                   # Use only if you are using Google Colab, otherwise remove it\n",
    "# files.download('Pre Profiling Report.html')      # Use only if you are using Google Colab, otherwise remove it"
   ]
  },
  {
   "cell_type": "markdown",
   "metadata": {
    "colab_type": "text",
    "id": "fIeHhm_ZYD-o"
   },
   "source": [
    "**Observations:**\n",
    "- **Missing values:** Around **30% values** of the entire dataset.\n",
    "- **Duplicate Rows**: **None**\n",
    "- **Duplicate Columns**: **None**\n",
    "- **Highly cardinal features**: **REF**, **CLNDISDB**, **Allele**, **ALT**\n",
    "- **Positively skewed features**: **ORIGIN**"
   ]
  },
  {
   "cell_type": "markdown",
   "metadata": {
    "colab_type": "text",
    "id": "0kiWLcLRWGFo"
   },
   "source": [
    "<a id = Section5></a>\n",
    "# **5. Data Pre-Processing**"
   ]
  },
  {
   "cell_type": "markdown",
   "metadata": {
    "colab_type": "text",
    "id": "Ssk9Ntm7Zt8c"
   },
   "source": [
    "<a id = Section52></a>\n",
    "### **5.1 Identification & Handling of Redundant Data**\n",
    "\n",
    "- In this section **we will identify redundant rows and columns** in our data if present."
   ]
  },
  {
   "cell_type": "markdown",
   "metadata": {
    "colab_type": "text",
    "id": "g5SqtTkOYpAk"
   },
   "source": [
    "#### **5.1.1 Null Data Identification & Handling**"
   ]
  },
  {
   "cell_type": "code",
   "execution_count": 59,
   "metadata": {
    "colab": {
     "base_uri": "https://localhost:8080/",
     "height": 165
    },
    "colab_type": "code",
    "executionInfo": {
     "elapsed": 30517,
     "status": "ok",
     "timestamp": 1591248946586,
     "user": {
      "displayName": "Prerna Bajaj",
      "photoUrl": "",
      "userId": "11609015255205782524"
     },
     "user_tz": -330
    },
    "id": "NowaxJ3BYrM-",
    "outputId": "2e0d6b15-6493-4159-dc10-e89236c0ca68"
   },
   "outputs": [
    {
     "data": {
      "text/html": [
       "<div>\n",
       "<style scoped>\n",
       "    .dataframe tbody tr th:only-of-type {\n",
       "        vertical-align: middle;\n",
       "    }\n",
       "\n",
       "    .dataframe tbody tr th {\n",
       "        vertical-align: top;\n",
       "    }\n",
       "\n",
       "    .dataframe thead th {\n",
       "        text-align: right;\n",
       "    }\n",
       "</style>\n",
       "<table border=\"1\" class=\"dataframe\">\n",
       "  <thead>\n",
       "    <tr style=\"text-align: right;\">\n",
       "      <th></th>\n",
       "      <th>CHROM</th>\n",
       "      <th>POS</th>\n",
       "      <th>REF</th>\n",
       "      <th>ALT</th>\n",
       "      <th>AF_ESP</th>\n",
       "      <th>AF_EXAC</th>\n",
       "      <th>AF_TGP</th>\n",
       "      <th>CLNDISDB</th>\n",
       "      <th>CLNDISDBINCL</th>\n",
       "      <th>CLNDN</th>\n",
       "      <th>CLNDNINCL</th>\n",
       "      <th>CLNHGVS</th>\n",
       "      <th>CLNSIGINCL</th>\n",
       "      <th>CLNVC</th>\n",
       "      <th>CLNVI</th>\n",
       "      <th>MC</th>\n",
       "      <th>ORIGIN</th>\n",
       "      <th>SSR</th>\n",
       "      <th>CLASS</th>\n",
       "      <th>Allele</th>\n",
       "      <th>Consequence</th>\n",
       "      <th>IMPACT</th>\n",
       "      <th>SYMBOL</th>\n",
       "      <th>Feature_type</th>\n",
       "      <th>Feature</th>\n",
       "      <th>BIOTYPE</th>\n",
       "      <th>EXON</th>\n",
       "      <th>INTRON</th>\n",
       "      <th>cDNA_position</th>\n",
       "      <th>CDS_position</th>\n",
       "      <th>Protein_position</th>\n",
       "      <th>Amino_acids</th>\n",
       "      <th>Codons</th>\n",
       "      <th>DISTANCE</th>\n",
       "      <th>STRAND</th>\n",
       "      <th>BAM_EDIT</th>\n",
       "      <th>SIFT</th>\n",
       "      <th>PolyPhen</th>\n",
       "      <th>MOTIF_NAME</th>\n",
       "      <th>MOTIF_POS</th>\n",
       "      <th>HIGH_INF_POS</th>\n",
       "      <th>MOTIF_SCORE_CHANGE</th>\n",
       "      <th>LoFtool</th>\n",
       "      <th>CADD_PHRED</th>\n",
       "      <th>CADD_RAW</th>\n",
       "      <th>BLOSUM62</th>\n",
       "    </tr>\n",
       "  </thead>\n",
       "  <tbody>\n",
       "    <tr>\n",
       "      <th>Null Frequency</th>\n",
       "      <td>0.0</td>\n",
       "      <td>0.0</td>\n",
       "      <td>0.0</td>\n",
       "      <td>0.0</td>\n",
       "      <td>0.0</td>\n",
       "      <td>0.0</td>\n",
       "      <td>0.0</td>\n",
       "      <td>0.0</td>\n",
       "      <td>65021.00</td>\n",
       "      <td>0.0</td>\n",
       "      <td>65021.00</td>\n",
       "      <td>0.0</td>\n",
       "      <td>65021.00</td>\n",
       "      <td>0.0</td>\n",
       "      <td>37529.00</td>\n",
       "      <td>846.0</td>\n",
       "      <td>0.0</td>\n",
       "      <td>65058.0</td>\n",
       "      <td>0.0</td>\n",
       "      <td>0.0</td>\n",
       "      <td>0.0</td>\n",
       "      <td>0.0</td>\n",
       "      <td>16.00</td>\n",
       "      <td>14.00</td>\n",
       "      <td>14.00</td>\n",
       "      <td>16.00</td>\n",
       "      <td>8893.00</td>\n",
       "      <td>56385.0</td>\n",
       "      <td>8884.00</td>\n",
       "      <td>9955.00</td>\n",
       "      <td>9955.00</td>\n",
       "      <td>10004.00</td>\n",
       "      <td>10004.00</td>\n",
       "      <td>65080.00</td>\n",
       "      <td>14.00</td>\n",
       "      <td>33219.00</td>\n",
       "      <td>40352.0</td>\n",
       "      <td>40392.00</td>\n",
       "      <td>65186.0</td>\n",
       "      <td>65186.0</td>\n",
       "      <td>65186.0</td>\n",
       "      <td>65186.0</td>\n",
       "      <td>4213.00</td>\n",
       "      <td>1092.00</td>\n",
       "      <td>1092.00</td>\n",
       "      <td>39595.00</td>\n",
       "    </tr>\n",
       "    <tr>\n",
       "      <th>Missing %age</th>\n",
       "      <td>0.0</td>\n",
       "      <td>0.0</td>\n",
       "      <td>0.0</td>\n",
       "      <td>0.0</td>\n",
       "      <td>0.0</td>\n",
       "      <td>0.0</td>\n",
       "      <td>0.0</td>\n",
       "      <td>0.0</td>\n",
       "      <td>99.74</td>\n",
       "      <td>0.0</td>\n",
       "      <td>99.74</td>\n",
       "      <td>0.0</td>\n",
       "      <td>99.74</td>\n",
       "      <td>0.0</td>\n",
       "      <td>57.57</td>\n",
       "      <td>1.3</td>\n",
       "      <td>0.0</td>\n",
       "      <td>99.8</td>\n",
       "      <td>0.0</td>\n",
       "      <td>0.0</td>\n",
       "      <td>0.0</td>\n",
       "      <td>0.0</td>\n",
       "      <td>0.02</td>\n",
       "      <td>0.02</td>\n",
       "      <td>0.02</td>\n",
       "      <td>0.02</td>\n",
       "      <td>13.64</td>\n",
       "      <td>86.5</td>\n",
       "      <td>13.63</td>\n",
       "      <td>15.27</td>\n",
       "      <td>15.27</td>\n",
       "      <td>15.35</td>\n",
       "      <td>15.35</td>\n",
       "      <td>99.83</td>\n",
       "      <td>0.02</td>\n",
       "      <td>50.96</td>\n",
       "      <td>61.9</td>\n",
       "      <td>61.96</td>\n",
       "      <td>100.0</td>\n",
       "      <td>100.0</td>\n",
       "      <td>100.0</td>\n",
       "      <td>100.0</td>\n",
       "      <td>6.46</td>\n",
       "      <td>1.68</td>\n",
       "      <td>1.68</td>\n",
       "      <td>60.74</td>\n",
       "    </tr>\n",
       "  </tbody>\n",
       "</table>\n",
       "</div>"
      ],
      "text/plain": [
       "                CHROM  POS  REF  ALT  ...  LoFtool  CADD_PHRED  CADD_RAW  BLOSUM62\n",
       "Null Frequency    0.0  0.0  0.0  0.0  ...  4213.00     1092.00   1092.00  39595.00\n",
       "Missing %age      0.0  0.0  0.0  0.0  ...     6.46        1.68      1.68     60.74\n",
       "\n",
       "[2 rows x 46 columns]"
      ]
     },
     "execution_count": 59,
     "metadata": {
      "tags": []
     },
     "output_type": "execute_result"
    }
   ],
   "source": [
    "null_frame = pd.DataFrame(index = g_data.columns.values)\n",
    "null_frame['Null Frequency'] = g_data.isnull().sum().values\n",
    "percent = g_data.isnull().sum().values/g_data.shape[0]\n",
    "null_frame['Missing %age'] = np.round(percent, decimals = 4) * 100\n",
    "null_frame.transpose()"
   ]
  },
  {
   "cell_type": "markdown",
   "metadata": {
    "colab_type": "text",
    "id": "kOgTY-OxZxnr"
   },
   "source": [
    "**Observations:**\n",
    "- **Observation:**\n",
    "\n",
    "- **Feature**:\n",
    "  - Problem &rarr; Action Required\n",
    "- **CLNDISDBINCL**:\n",
    "  - Missing Information (65021) &rarr; Drop the feature.\n",
    "  - **Feature**:\n",
    "  - Missing Information (14) &rarr; Drop the feature.\n",
    "  - **Feature_type**:\n",
    "  - Missing Information (14) &rarr; Drop the feature.\n",
    "  - **SYMBOL**:\n",
    "  - Missing Information (16) &rarr; Drop the feature.\n",
    "  - **BIOTYPE**:\n",
    "  - Missing Information (16) &rarr; Drop the feature."
   ]
  },
  {
   "cell_type": "markdown",
   "metadata": {
    "colab_type": "text",
    "id": "YmC8cMLGdCp9"
   },
   "source": [
    "#### **5.1.2 Zero Data Identification & Handling**"
   ]
  },
  {
   "cell_type": "code",
   "execution_count": 60,
   "metadata": {
    "colab": {
     "base_uri": "https://localhost:8080/",
     "height": 165
    },
    "colab_type": "code",
    "executionInfo": {
     "elapsed": 30468,
     "status": "ok",
     "timestamp": 1591248946589,
     "user": {
      "displayName": "Prerna Bajaj",
      "photoUrl": "",
      "userId": "11609015255205782524"
     },
     "user_tz": -330
    },
    "id": "s01q6bH7dGl3",
    "outputId": "30a6a80a-8bed-4dea-a048-be8cc57ba568"
   },
   "outputs": [
    {
     "data": {
      "text/html": [
       "<div>\n",
       "<style scoped>\n",
       "    .dataframe tbody tr th:only-of-type {\n",
       "        vertical-align: middle;\n",
       "    }\n",
       "\n",
       "    .dataframe tbody tr th {\n",
       "        vertical-align: top;\n",
       "    }\n",
       "\n",
       "    .dataframe thead th {\n",
       "        text-align: right;\n",
       "    }\n",
       "</style>\n",
       "<table border=\"1\" class=\"dataframe\">\n",
       "  <thead>\n",
       "    <tr style=\"text-align: right;\">\n",
       "      <th></th>\n",
       "      <th>CHROM</th>\n",
       "      <th>POS</th>\n",
       "      <th>REF</th>\n",
       "      <th>ALT</th>\n",
       "      <th>AF_ESP</th>\n",
       "      <th>AF_EXAC</th>\n",
       "      <th>AF_TGP</th>\n",
       "      <th>CLNDISDB</th>\n",
       "      <th>CLNDISDBINCL</th>\n",
       "      <th>CLNDN</th>\n",
       "      <th>CLNDNINCL</th>\n",
       "      <th>CLNHGVS</th>\n",
       "      <th>CLNSIGINCL</th>\n",
       "      <th>CLNVC</th>\n",
       "      <th>CLNVI</th>\n",
       "      <th>MC</th>\n",
       "      <th>ORIGIN</th>\n",
       "      <th>SSR</th>\n",
       "      <th>CLASS</th>\n",
       "      <th>Allele</th>\n",
       "      <th>Consequence</th>\n",
       "      <th>IMPACT</th>\n",
       "      <th>SYMBOL</th>\n",
       "      <th>Feature_type</th>\n",
       "      <th>Feature</th>\n",
       "      <th>BIOTYPE</th>\n",
       "      <th>EXON</th>\n",
       "      <th>INTRON</th>\n",
       "      <th>cDNA_position</th>\n",
       "      <th>CDS_position</th>\n",
       "      <th>Protein_position</th>\n",
       "      <th>Amino_acids</th>\n",
       "      <th>Codons</th>\n",
       "      <th>DISTANCE</th>\n",
       "      <th>STRAND</th>\n",
       "      <th>BAM_EDIT</th>\n",
       "      <th>SIFT</th>\n",
       "      <th>PolyPhen</th>\n",
       "      <th>MOTIF_NAME</th>\n",
       "      <th>MOTIF_POS</th>\n",
       "      <th>HIGH_INF_POS</th>\n",
       "      <th>MOTIF_SCORE_CHANGE</th>\n",
       "      <th>LoFtool</th>\n",
       "      <th>CADD_PHRED</th>\n",
       "      <th>CADD_RAW</th>\n",
       "      <th>BLOSUM62</th>\n",
       "    </tr>\n",
       "  </thead>\n",
       "  <tbody>\n",
       "    <tr>\n",
       "      <th>Null Frequency</th>\n",
       "      <td>0.0</td>\n",
       "      <td>0.0</td>\n",
       "      <td>0.0</td>\n",
       "      <td>0.0</td>\n",
       "      <td>35781.00</td>\n",
       "      <td>24047.00</td>\n",
       "      <td>37972.00</td>\n",
       "      <td>0.0</td>\n",
       "      <td>0.0</td>\n",
       "      <td>0.0</td>\n",
       "      <td>0.0</td>\n",
       "      <td>0.0</td>\n",
       "      <td>0.0</td>\n",
       "      <td>0.0</td>\n",
       "      <td>0.0</td>\n",
       "      <td>0.0</td>\n",
       "      <td>14.00</td>\n",
       "      <td>0.0</td>\n",
       "      <td>48754.00</td>\n",
       "      <td>0.0</td>\n",
       "      <td>0.0</td>\n",
       "      <td>0.0</td>\n",
       "      <td>0.0</td>\n",
       "      <td>0.0</td>\n",
       "      <td>0.0</td>\n",
       "      <td>0.0</td>\n",
       "      <td>0.0</td>\n",
       "      <td>0.0</td>\n",
       "      <td>0.0</td>\n",
       "      <td>0.0</td>\n",
       "      <td>0.0</td>\n",
       "      <td>0.0</td>\n",
       "      <td>0.0</td>\n",
       "      <td>0.0</td>\n",
       "      <td>0.0</td>\n",
       "      <td>0.0</td>\n",
       "      <td>0.0</td>\n",
       "      <td>0.0</td>\n",
       "      <td>0.0</td>\n",
       "      <td>0.0</td>\n",
       "      <td>0.0</td>\n",
       "      <td>0.0</td>\n",
       "      <td>0.0</td>\n",
       "      <td>0.0</td>\n",
       "      <td>0.0</td>\n",
       "      <td>0.0</td>\n",
       "    </tr>\n",
       "    <tr>\n",
       "      <th>Missing %age</th>\n",
       "      <td>0.0</td>\n",
       "      <td>0.0</td>\n",
       "      <td>0.0</td>\n",
       "      <td>0.0</td>\n",
       "      <td>54.89</td>\n",
       "      <td>36.89</td>\n",
       "      <td>58.25</td>\n",
       "      <td>0.0</td>\n",
       "      <td>0.0</td>\n",
       "      <td>0.0</td>\n",
       "      <td>0.0</td>\n",
       "      <td>0.0</td>\n",
       "      <td>0.0</td>\n",
       "      <td>0.0</td>\n",
       "      <td>0.0</td>\n",
       "      <td>0.0</td>\n",
       "      <td>0.02</td>\n",
       "      <td>0.0</td>\n",
       "      <td>74.79</td>\n",
       "      <td>0.0</td>\n",
       "      <td>0.0</td>\n",
       "      <td>0.0</td>\n",
       "      <td>0.0</td>\n",
       "      <td>0.0</td>\n",
       "      <td>0.0</td>\n",
       "      <td>0.0</td>\n",
       "      <td>0.0</td>\n",
       "      <td>0.0</td>\n",
       "      <td>0.0</td>\n",
       "      <td>0.0</td>\n",
       "      <td>0.0</td>\n",
       "      <td>0.0</td>\n",
       "      <td>0.0</td>\n",
       "      <td>0.0</td>\n",
       "      <td>0.0</td>\n",
       "      <td>0.0</td>\n",
       "      <td>0.0</td>\n",
       "      <td>0.0</td>\n",
       "      <td>0.0</td>\n",
       "      <td>0.0</td>\n",
       "      <td>0.0</td>\n",
       "      <td>0.0</td>\n",
       "      <td>0.0</td>\n",
       "      <td>0.0</td>\n",
       "      <td>0.0</td>\n",
       "      <td>0.0</td>\n",
       "    </tr>\n",
       "  </tbody>\n",
       "</table>\n",
       "</div>"
      ],
      "text/plain": [
       "                CHROM  POS  REF  ALT  ...  LoFtool  CADD_PHRED  CADD_RAW  BLOSUM62\n",
       "Null Frequency    0.0  0.0  0.0  0.0  ...      0.0         0.0       0.0       0.0\n",
       "Missing %age      0.0  0.0  0.0  0.0  ...      0.0         0.0       0.0       0.0\n",
       "\n",
       "[2 rows x 46 columns]"
      ]
     },
     "execution_count": 60,
     "metadata": {
      "tags": []
     },
     "output_type": "execute_result"
    }
   ],
   "source": [
    "zero_frame = pd.DataFrame(index = g_data.columns.values)\n",
    "zero_frame['Null Frequency'] = g_data[g_data == 0].count().values\n",
    "percent = g_data[g_data == 0].count().values / g_data.shape[0]\n",
    "zero_frame['Missing %age'] = np.round(percent, decimals = 4) * 100\n",
    "zero_frame.transpose()"
   ]
  },
  {
   "cell_type": "markdown",
   "metadata": {
    "colab_type": "text",
    "id": "CFEOu3rMdbOc"
   },
   "source": [
    "**Observation**\n",
    "\n",
    "- **Feature:** \n",
    "  - Problem &rarr; Action Required {Reason}\n",
    "- **CLASS:**\n",
    "  - Zero data &rarr; 48754 {Target variable}\n",
    "- **Allele:**\n",
    "  - Zero data &rarr; None {Feature is categorical}\n",
    "- **Consequence:**\n",
    "  - Zero data &rarr; None {Feature is categorical}\n",
    "- **IMPACT:**\n",
    "  - Zero data &rarr; None {Feature is categorical}\n",
    "\n",
    "- The **AF values** which denote allele frequencies, **have values that are 0**; which is discussed later.\n"
   ]
  },
  {
   "cell_type": "markdown",
   "metadata": {
    "colab_type": "text",
    "id": "g9PQcibPtUo0"
   },
   "source": [
    "**Performing Operations**"
   ]
  },
  {
   "cell_type": "code",
   "execution_count": 61,
   "metadata": {
    "colab": {
     "base_uri": "https://localhost:8080/",
     "height": 224
    },
    "colab_type": "code",
    "executionInfo": {
     "elapsed": 30433,
     "status": "ok",
     "timestamp": 1591248946592,
     "user": {
      "displayName": "Prerna Bajaj",
      "photoUrl": "",
      "userId": "11609015255205782524"
     },
     "user_tz": -330
    },
    "id": "xn4TUbYGgYBr",
    "outputId": "11806f85-5da5-4cee-f8c2-3b00b10b48a1"
   },
   "outputs": [
    {
     "data": {
      "text/html": [
       "<div>\n",
       "<style scoped>\n",
       "    .dataframe tbody tr th:only-of-type {\n",
       "        vertical-align: middle;\n",
       "    }\n",
       "\n",
       "    .dataframe tbody tr th {\n",
       "        vertical-align: top;\n",
       "    }\n",
       "\n",
       "    .dataframe thead th {\n",
       "        text-align: right;\n",
       "    }\n",
       "</style>\n",
       "<table border=\"1\" class=\"dataframe\">\n",
       "  <thead>\n",
       "    <tr style=\"text-align: right;\">\n",
       "      <th></th>\n",
       "      <th>POS</th>\n",
       "      <th>AF_ESP</th>\n",
       "      <th>AF_EXAC</th>\n",
       "      <th>AF_TGP</th>\n",
       "      <th>CLASS</th>\n",
       "      <th>cDNA_position</th>\n",
       "      <th>CDS_position</th>\n",
       "      <th>Protein_position</th>\n",
       "      <th>STRAND</th>\n",
       "      <th>LoFtool</th>\n",
       "      <th>CADD_PHRED</th>\n",
       "      <th>CADD_RAW</th>\n",
       "      <th>variant_exon</th>\n",
       "    </tr>\n",
       "  </thead>\n",
       "  <tbody>\n",
       "    <tr>\n",
       "      <th>6</th>\n",
       "      <td>3328358</td>\n",
       "      <td>0.0000</td>\n",
       "      <td>0.00000</td>\n",
       "      <td>0.0000</td>\n",
       "      <td>0</td>\n",
       "      <td>1858.0</td>\n",
       "      <td>1600.0</td>\n",
       "      <td>534.0</td>\n",
       "      <td>1.0</td>\n",
       "      <td>0.101</td>\n",
       "      <td>0.172</td>\n",
       "      <td>-0.543433</td>\n",
       "      <td>9.0</td>\n",
       "    </tr>\n",
       "    <tr>\n",
       "      <th>7</th>\n",
       "      <td>3328659</td>\n",
       "      <td>0.1523</td>\n",
       "      <td>0.13103</td>\n",
       "      <td>0.1060</td>\n",
       "      <td>0</td>\n",
       "      <td>2159.0</td>\n",
       "      <td>1901.0</td>\n",
       "      <td>634.0</td>\n",
       "      <td>1.0</td>\n",
       "      <td>0.101</td>\n",
       "      <td>23.000</td>\n",
       "      <td>3.424422</td>\n",
       "      <td>9.0</td>\n",
       "    </tr>\n",
       "    <tr>\n",
       "      <th>8</th>\n",
       "      <td>3347452</td>\n",
       "      <td>0.0000</td>\n",
       "      <td>0.00357</td>\n",
       "      <td>0.0030</td>\n",
       "      <td>1</td>\n",
       "      <td>3562.0</td>\n",
       "      <td>3304.0</td>\n",
       "      <td>1102.0</td>\n",
       "      <td>1.0</td>\n",
       "      <td>0.101</td>\n",
       "      <td>11.360</td>\n",
       "      <td>1.126629</td>\n",
       "      <td>15.0</td>\n",
       "    </tr>\n",
       "    <tr>\n",
       "      <th>9</th>\n",
       "      <td>5925304</td>\n",
       "      <td>0.0045</td>\n",
       "      <td>0.00231</td>\n",
       "      <td>0.0058</td>\n",
       "      <td>0</td>\n",
       "      <td>3942.0</td>\n",
       "      <td>3674.0</td>\n",
       "      <td>1225.0</td>\n",
       "      <td>-1.0</td>\n",
       "      <td>0.021</td>\n",
       "      <td>22.100</td>\n",
       "      <td>2.969650</td>\n",
       "      <td>27.0</td>\n",
       "    </tr>\n",
       "    <tr>\n",
       "      <th>10</th>\n",
       "      <td>5926503</td>\n",
       "      <td>0.0019</td>\n",
       "      <td>0.00267</td>\n",
       "      <td>0.0010</td>\n",
       "      <td>1</td>\n",
       "      <td>3842.0</td>\n",
       "      <td>3574.0</td>\n",
       "      <td>1192.0</td>\n",
       "      <td>-1.0</td>\n",
       "      <td>0.021</td>\n",
       "      <td>26.100</td>\n",
       "      <td>5.430178</td>\n",
       "      <td>26.0</td>\n",
       "    </tr>\n",
       "  </tbody>\n",
       "</table>\n",
       "</div>"
      ],
      "text/plain": [
       "        POS  AF_ESP  AF_EXAC  ...  CADD_PHRED  CADD_RAW  variant_exon\n",
       "6   3328358  0.0000  0.00000  ...       0.172 -0.543433           9.0\n",
       "7   3328659  0.1523  0.13103  ...      23.000  3.424422           9.0\n",
       "8   3347452  0.0000  0.00357  ...      11.360  1.126629          15.0\n",
       "9   5925304  0.0045  0.00231  ...      22.100  2.969650          27.0\n",
       "10  5926503  0.0019  0.00267  ...      26.100  5.430178          26.0\n",
       "\n",
       "[5 rows x 13 columns]"
      ]
     },
     "execution_count": 61,
     "metadata": {
      "tags": []
     },
     "output_type": "execute_result"
    }
   ],
   "source": [
    "g_data = g_data.replace({'':np.nan})\n",
    "g_data = g_data.dropna(thresh=0.8*len(g_data), axis=1)\n",
    "g_data.columns\n",
    "\n",
    "#dropping all columns that  do not play a role in classifying the genes\n",
    "g_data = g_data.drop(['CLNDISDB','CLNDN','Feature','Consequence','BIOTYPE','SYMBOL','Feature_type','ORIGIN'], axis = 1)\n",
    "#removing all non numerical values\n",
    "df_numeric = g_data.drop(['Amino_acids', 'Codons', 'MC', 'CLNHGVS', 'REF', 'ALT', 'CLNVC', 'Allele', 'IMPACT', 'CHROM'], axis = 1)\n",
    "\n",
    "#converting variables with numeric values listed as strings to numeric\n",
    "for i in [\"Protein_position\", \"CDS_position\", \"cDNA_position\"]:\n",
    "    df_numeric[i] = pd.to_numeric(df_numeric[i], errors = 'coerce')\n",
    "    \n",
    "\n",
    "#converting EXON to numeric values\n",
    "#The values in EXON are of type 1/1, 1/4, 1/9 and so on. We need to convert these values to numeric numbers.\n",
    "#The below step is used to perform the same.\n",
    "df_numeric.EXON.fillna('0', inplace=True)\n",
    "df_numeric['variant_exon'] = df_numeric.EXON.apply(lambda x: [float(s) for s in re.findall(r'\\b\\d+\\b', x)][0])\n",
    "df_numeric = df_numeric.drop([\"EXON\"], axis = 1)\n",
    "\n",
    "df_numeric.dropna(axis = 0, inplace = True)\n",
    "df_numeric.head()"
   ]
  },
  {
   "cell_type": "markdown",
   "metadata": {
    "colab_type": "text",
    "id": "x-jhcoqjms9O"
   },
   "source": [
    "<a id = Section52></a>\n",
    "### **5.2 Identification & Handling of Redundant Data**\n",
    "\n",
    "- In this section **we will identify redundant rows and columns** in our data if present."
   ]
  },
  {
   "cell_type": "markdown",
   "metadata": {
    "colab_type": "text",
    "id": "CJUm1rOCec72"
   },
   "source": [
    "#### **5.2.1 Identification & Handling of Redundant Rows**"
   ]
  },
  {
   "cell_type": "code",
   "execution_count": 62,
   "metadata": {
    "colab": {
     "base_uri": "https://localhost:8080/",
     "height": 51
    },
    "colab_type": "code",
    "executionInfo": {
     "elapsed": 30952,
     "status": "ok",
     "timestamp": 1591248947151,
     "user": {
      "displayName": "Prerna Bajaj",
      "photoUrl": "",
      "userId": "11609015255205782524"
     },
     "user_tz": -330
    },
    "id": "WNPyfsNvnskA",
    "outputId": "b45a42c2-3e86-471f-b53c-3cc56eae3a5d"
   },
   "outputs": [
    {
     "name": "stdout",
     "output_type": "stream",
     "text": [
      "Contains Redundant Records?: False\n",
      "Duplicate Count: 0\n"
     ]
    }
   ],
   "source": [
    "print('Contains Redundant Records?:', g_data.duplicated().any())\n",
    "print('Duplicate Count:', g_data.duplicated().sum())"
   ]
  },
  {
   "cell_type": "markdown",
   "metadata": {
    "colab_type": "text",
    "id": "gWfDBvr8eqX1"
   },
   "source": [
    "#### **5.2.2 Identification & Handling of Redundant Features**\n",
    "\n",
    "- For handling duplicate features we have created a custom function to identify duplicacy in features with different name but similar values."
   ]
  },
  {
   "cell_type": "code",
   "execution_count": 0,
   "metadata": {
    "colab": {},
    "colab_type": "code",
    "collapsed": true,
    "id": "pKVgKidACMnv"
   },
   "outputs": [],
   "source": [
    "def duplicate_cols(dataframe):\n",
    "  ls1 = []\n",
    "  ls2 = []\n",
    "\n",
    "  columns = dataframe.columns.values\n",
    "  for i in range(0, len(columns)):\n",
    "    for j in range(i+1, len(columns)):\n",
    "      if (np.where(dataframe[columns[i]] == dataframe[columns[j]], True, False).all() == True):\n",
    "        ls1.append(columns[i])\n",
    "        ls2.append(columns[j])\n",
    "\n",
    "  if ((len(ls1) == 0) & (len(ls2) == 0)):\n",
    "    return None\n",
    "  else:\n",
    "    duplicate_frame = pd.DataFrame()\n",
    "    duplicate_frame['Feature 1'] = ls1\n",
    "    duplicate_frame['Feature 2'] = ls2\n",
    "    return duplicate_frame"
   ]
  },
  {
   "cell_type": "code",
   "execution_count": 64,
   "metadata": {
    "colab": {
     "base_uri": "https://localhost:8080/",
     "height": 34
    },
    "colab_type": "code",
    "executionInfo": {
     "elapsed": 33322,
     "status": "ok",
     "timestamp": 1591248949600,
     "user": {
      "displayName": "Prerna Bajaj",
      "photoUrl": "",
      "userId": "11609015255205782524"
     },
     "user_tz": -330
    },
    "id": "x7bZ19xKwQ_M",
    "outputId": "56eca1ab-fde0-4d62-e5b2-bdbab3c561a2"
   },
   "outputs": [
    {
     "name": "stdout",
     "output_type": "stream",
     "text": [
      "None\n"
     ]
    }
   ],
   "source": [
    "print(duplicate_cols(g_data))"
   ]
  },
  {
   "cell_type": "markdown",
   "metadata": {
    "colab_type": "text",
    "id": "WYZLmrE9fA5P"
   },
   "source": [
    "**Observation:**\n",
    "\n",
    "- It turns out that there **are no duplicate columns** in features."
   ]
  },
  {
   "cell_type": "markdown",
   "metadata": {
    "colab_type": "text",
    "id": "H1y06a__f1Rh"
   },
   "source": [
    "<a id = Section55></a>\n",
    "### **5.5 Post Profiling Report**\n",
    "\n",
    "- In post profiling, we identify the changes over cleansed data."
   ]
  },
  {
   "cell_type": "code",
   "execution_count": 0,
   "metadata": {
    "colab": {},
    "colab_type": "code",
    "collapsed": true,
    "id": "gyA6iiPFgBL6"
   },
   "outputs": [],
   "source": [
    "#profile = ProfileReport(df)\n",
    "#profile.to_file(output_file=\"Post Profiling Report.html\")\n",
    "#print('Post-Profiling Accomplished!')"
   ]
  },
  {
   "cell_type": "code",
   "execution_count": 0,
   "metadata": {
    "colab": {},
    "colab_type": "code",
    "collapsed": true,
    "id": "LferIKMpuJpY"
   },
   "outputs": [],
   "source": [
    "#from google.colab import files                   # Use only if you are using Google Colab, otherwise remove it\n",
    "#files.download('Post Profiling Report.html')     # Use only if you are using Google Colab, otherwise remove it"
   ]
  },
  {
   "cell_type": "markdown",
   "metadata": {
    "colab_type": "text",
    "id": "q7NSsdJQgQAB"
   },
   "source": [
    "**Observations:**\n",
    "- The **missing values** are reduced to **4% values** of the entire dataset.\n",
    "- We have **dropped CLNDISDB, CLNDN, Feature, Consequence, BIOTYPE, SYMBOL, Feature_type, ORIGIN**, because they do not play a major role in predicting the CLASS of the gene.\n",
    "- We have removed the following non-numeric features:\n",
    "\n",
    "   **Amino_acids, Codons, MC, CLNHGVS, REF, ALT, CLNVC, Allele, IMPACT** and **CHROM**\n",
    "- We have converted the following to numeric values:\n",
    "\n",
    "   **Protein_position, CDS_position, cDNA_position** and **EXON**.\n",
    "\n",
    "- Rest there is no change at all in behaviour."
   ]
  },
  {
   "cell_type": "markdown",
   "metadata": {
    "colab_type": "text",
    "id": "VzJTnj52WQjA"
   },
   "source": [
    "<a id = Section6></a>\n",
    "# **6. Exploratory Data Analysis**"
   ]
  },
  {
   "cell_type": "markdown",
   "metadata": {
    "colab_type": "text",
    "id": "zWkb9X2uvMYl"
   },
   "source": [
    "**Question 1: What is the frequency distribution of the numerical features in the dataset?**"
   ]
  },
  {
   "cell_type": "code",
   "execution_count": 67,
   "metadata": {
    "colab": {
     "base_uri": "https://localhost:8080/",
     "height": 531
    },
    "colab_type": "code",
    "executionInfo": {
     "elapsed": 33244,
     "status": "ok",
     "timestamp": 1591248949610,
     "user": {
      "displayName": "Prerna Bajaj",
      "photoUrl": "",
      "userId": "11609015255205782524"
     },
     "user_tz": -330
    },
    "id": "rNFM7--fCMhg",
    "outputId": "e7789342-8e0f-4a47-d199-e7a6d2d72aaf"
   },
   "outputs": [
    {
     "data": {
      "text/plain": [
       "<Figure size 1080x720 with 0 Axes>"
      ]
     },
     "metadata": {
      "tags": []
     },
     "output_type": "display_data"
    },
    {
     "data": {
      "image/png": "[encoded data removed]",
      "text/plain": [
       "<Figure size 864x504 with 9 Axes>"
      ]
     },
     "metadata": {
      "needs_background": "light",
      "tags": []
     },
     "output_type": "display_data"
    }
   ],
   "source": [
    "plt.figure(figsize = [15, 10])\n",
    "g_data.drop('CLASS',axis=1).hist(figsize=(12,7))\n",
    "plt.suptitle(\"Features histograms\", fontsize=16)\n",
    "plt.tight_layout()\n",
    "plt.subplots_adjust(top=0.9)\n",
    "plt.show()"
   ]
  },
  {
   "cell_type": "markdown",
   "metadata": {
    "colab_type": "text",
    "id": "9OMC3Tfk1TOb"
   },
   "source": [
    "**Observations:**\n",
    "- Feature **POS** is **skewed to the right**.\n",
    "- **STRAND** has **two values -1 and 1**.\n"
   ]
  },
  {
   "cell_type": "markdown",
   "metadata": {
    "colab_type": "text",
    "id": "frB9yieHxrHf"
   },
   "source": [
    "**Question 2: What is the frequency distribution of the target variable in the dataset?**"
   ]
  },
  {
   "cell_type": "code",
   "execution_count": 68,
   "metadata": {
    "colab": {
     "base_uri": "https://localhost:8080/",
     "height": 345
    },
    "colab_type": "code",
    "executionInfo": {
     "elapsed": 33212,
     "status": "ok",
     "timestamp": 1591248949613,
     "user": {
      "displayName": "Prerna Bajaj",
      "photoUrl": "",
      "userId": "11609015255205782524"
     },
     "user_tz": -330
    },
    "id": "bQ_o7RYrxw5q",
    "outputId": "0abba572-b5bd-48c3-e604-5354e29b1047"
   },
   "outputs": [
    {
     "data": {
      "image/png": "[encoded data removed]",
      "text/plain": [
       "<Figure size 504x360 with 1 Axes>"
      ]
     },
     "metadata": {
      "needs_background": "light",
      "tags": []
     },
     "output_type": "display_data"
    }
   ],
   "source": [
    "plt.figure(figsize = [7, 5])\n",
    "sns.countplot(x='CLASS',data=g_data)\n",
    "plt.title(\"Target\")\n",
    "plt.show()"
   ]
  },
  {
   "cell_type": "markdown",
   "metadata": {
    "colab_type": "text",
    "id": "VZI2tQR9k5g-"
   },
   "source": [
    "**Observations:**\n",
    "- The **CLASS variable is skewed to the 0 class**. This implies that there are fewer variants with conflicting genes.\n",
    "- The dataset happens to be **heavily biased towards the non - conflicting genes**."
   ]
  },
  {
   "cell_type": "markdown",
   "metadata": {
    "colab_type": "text",
    "id": "h_0mSQGBxIhE"
   },
   "source": [
    "**Dropping the categorical values, so as to plot the correlation matrix.**"
   ]
  },
  {
   "cell_type": "code",
   "execution_count": 0,
   "metadata": {
    "colab": {},
    "colab_type": "code",
    "collapsed": true,
    "id": "IpIICLQWZwow"
   },
   "outputs": [],
   "source": [
    "numeric = g_data.drop(['Amino_acids', 'Codons', 'MC', \"CLNHGVS\", 'REF', 'ALT', 'CLNVC', 'Allele', 'IMPACT', 'CHROM'], axis = 1)"
   ]
  },
  {
   "cell_type": "markdown",
   "metadata": {
    "colab_type": "text",
    "id": "xPG3BqmSmNNu"
   },
   "source": [
    "**Question 3: What is the correlation between the features in the dataset?**"
   ]
  },
  {
   "cell_type": "code",
   "execution_count": 70,
   "metadata": {
    "colab": {
     "base_uri": "https://localhost:8080/",
     "height": 543
    },
    "colab_type": "code",
    "executionInfo": {
     "elapsed": 34345,
     "status": "ok",
     "timestamp": 1591248950810,
     "user": {
      "displayName": "Prerna Bajaj",
      "photoUrl": "",
      "userId": "11609015255205782524"
     },
     "user_tz": -330
    },
    "id": "Emzw0whyCMfx",
    "outputId": "7457e06e-69e9-4c3f-dd57-95f60e634688"
   },
   "outputs": [
    {
     "data": {
      "image/png": "[encoded data removed]",
      "text/plain": [
       "<Figure size 720x576 with 2 Axes>"
      ]
     },
     "metadata": {
      "needs_background": "light",
      "tags": []
     },
     "output_type": "display_data"
    }
   ],
   "source": [
    "f, ax = plt.subplots(figsize=(10, 8))\n",
    "sns.heatmap(numeric.corr(), annot=True)\n",
    "plt.show()"
   ]
  },
  {
   "cell_type": "markdown",
   "metadata": {
    "colab_type": "text",
    "id": "xoumhT8ZAXFJ"
   },
   "source": [
    "**Observations:**\n",
    "- **CLASS** follows a **negative correlation** with **all the features except POS**.\n",
    "- **CADD_PHRED and CADD_RAW** follow a **positive correlation with each other**.\n",
    "- **AF_ESP, AF_EXAC** and **AF_TGP** follow a **positive correlation with each other**."
   ]
  },
  {
   "cell_type": "markdown",
   "metadata": {
    "colab_type": "text",
    "id": "XLKyg6kW0BxM"
   },
   "source": [
    "**Question 4: What are the frequencies of conflicting and non-conflicting genes based on the chromosome the variant is located on?**"
   ]
  },
  {
   "cell_type": "code",
   "execution_count": 71,
   "metadata": {
    "colab": {
     "base_uri": "https://localhost:8080/",
     "height": 521
    },
    "colab_type": "code",
    "executionInfo": {
     "elapsed": 35712,
     "status": "ok",
     "timestamp": 1591248952210,
     "user": {
      "displayName": "Prerna Bajaj",
      "photoUrl": "",
      "userId": "11609015255205782524"
     },
     "user_tz": -330
    },
    "id": "pfz5KHefCwS0",
    "outputId": "3564dc8b-22c2-4484-efb2-6ad1b611aca1"
   },
   "outputs": [
    {
     "data": {
      "text/plain": [
       "<matplotlib.axes._subplots.AxesSubplot at 0x7ff97b51e668>"
      ]
     },
     "execution_count": 71,
     "metadata": {
      "tags": []
     },
     "output_type": "execute_result"
    },
    {
     "data": {
      "image/png": "[encoded data removed]",
      "text/plain": [
       "<Figure size 1440x720 with 1 Axes>"
      ]
     },
     "metadata": {
      "needs_background": "light",
      "tags": []
     },
     "output_type": "display_data"
    }
   ],
   "source": [
    "fig = plt.figure(figsize = (20, 10))\n",
    "sns.countplot(x= 'CLASS', data = g_data, hue = 'CHROM', palette='muted')"
   ]
  },
  {
   "cell_type": "markdown",
   "metadata": {
    "colab_type": "text",
    "id": "7utggurDy41y"
   },
   "source": [
    "**Observations:**\n",
    "- In the label of the graph **\"X\"** refers to the values of 0, i.e, **non-conflicting classifications**.\n",
    "- The data appears to be **heavily biased** towards the **non-conflicting genes**.\n",
    "- **CHROM == 2** has the **maximum bias** for **non-conflicting genes**."
   ]
  },
  {
   "cell_type": "markdown",
   "metadata": {
    "colab_type": "text",
    "id": "bfSZV5048Lid"
   },
   "source": [
    "**Question 5 : What is the frequency of the impact modifier of the consequence type?**"
   ]
  },
  {
   "cell_type": "markdown",
   "metadata": {
    "colab_type": "text",
    "id": "NSYlDz9k2tC9"
   },
   "source": [
    "**Note:** **\"IMPACT\" feature** explains the impact modifier of the consequence type in a conflicting or a non-conflicting gene. \n",
    "\n",
    "It has **4 classes**:\n",
    "- **MODERATE**\n",
    "- **MODIFIER**\n",
    "- **LOW**\n",
    "- **HIGH**\n"
   ]
  },
  {
   "cell_type": "code",
   "execution_count": 72,
   "metadata": {
    "colab": {
     "base_uri": "https://localhost:8080/",
     "height": 410
    },
    "colab_type": "code",
    "executionInfo": {
     "elapsed": 35681,
     "status": "ok",
     "timestamp": 1591248952217,
     "user": {
      "displayName": "Prerna Bajaj",
      "photoUrl": "",
      "userId": "11609015255205782524"
     },
     "user_tz": -330
    },
    "id": "MK-_9HmDySjc",
    "outputId": "0b0d9bf8-eb16-42ab-bec7-e0c6c9e60b93"
   },
   "outputs": [
    {
     "data": {
      "image/png": "[encoded data removed]",
      "text/plain": [
       "<Figure size 1296x504 with 1 Axes>"
      ]
     },
     "metadata": {
      "needs_background": "light",
      "tags": []
     },
     "output_type": "display_data"
    }
   ],
   "source": [
    "figure = plt.figure(figsize = [18, 7])\n",
    "\n",
    "ax = sns.countplot(x = 'IMPACT', hue = 'CLASS', data = g_data, palette = ['#38A7D0', '#F67088'])\n",
    "total = g_data.shape[0]\n",
    "\n",
    "for p in ax.patches:\n",
    "  percentage = '{:.2f}%'.format(100 * p.get_height() / total)\n",
    "  x = p.get_x() + p.get_width() / 3\n",
    "  y = p.get_y() + p.get_height()\n",
    "  ax.annotate(percentage, (x, y))\n",
    "\n",
    "plt.xlabel('IMPACT', size = 16)\n",
    "plt.legend(labels = ['0', '1'])\n",
    "plt.title('Variants of the Genes', size = 16)\n",
    "plt.show()"
   ]
  },
  {
   "cell_type": "markdown",
   "metadata": {
    "colab_type": "text",
    "id": "3nPcK0oT10js"
   },
   "source": [
    "**Observations:**\n",
    "- **MODERATE impact** has the **highest** number of **conflicting genes**.\n",
    "- **HIGH impact** has the **lowest** number of **conflicting genes**.\n"
   ]
  },
  {
   "cell_type": "markdown",
   "metadata": {
    "colab_type": "text",
    "id": "BjCpBjXr8pv9"
   },
   "source": [
    "**Question 6**: Which **variants of the genes** have the **most number of conflicting genes**?"
   ]
  },
  {
   "cell_type": "code",
   "execution_count": 73,
   "metadata": {
    "colab": {
     "base_uri": "https://localhost:8080/",
     "height": 410
    },
    "colab_type": "code",
    "executionInfo": {
     "elapsed": 35643,
     "status": "ok",
     "timestamp": 1591248952221,
     "user": {
      "displayName": "Prerna Bajaj",
      "photoUrl": "",
      "userId": "11609015255205782524"
     },
     "user_tz": -330
    },
    "id": "nOS5BClzhIQE",
    "outputId": "1758ba14-feb0-4b44-89b8-cfdca1b78335"
   },
   "outputs": [
    {
     "data": {
      "image/png": "[encoded data removed]",
      "text/plain": [
       "<Figure size 1296x504 with 1 Axes>"
      ]
     },
     "metadata": {
      "needs_background": "light",
      "tags": []
     },
     "output_type": "display_data"
    }
   ],
   "source": [
    "figure = plt.figure(figsize = [18, 7])\n",
    "\n",
    "ax = sns.countplot(x = 'CLNVC', hue = 'CLASS', data = g_data, palette = ['#38A7D0', '#F67088'])\n",
    "total = g_data.shape[0]\n",
    "\n",
    "for p in ax.patches:\n",
    "  percentage = '{:.2f}%'.format(100 * p.get_height() / total)\n",
    "  x = p.get_x() + p.get_width() / 3\n",
    "  y = p.get_y() + p.get_height()\n",
    "  ax.annotate(percentage, (x, y))\n",
    "\n",
    "plt.xlabel('CLNVC', size = 16)\n",
    "plt.legend(labels = ['0', '1'])\n",
    "plt.title('Variants of the Genes', size = 16)\n",
    "plt.show()"
   ]
  },
  {
   "cell_type": "markdown",
   "metadata": {
    "colab_type": "text",
    "id": "Sw21d39p-hqU"
   },
   "source": [
    "**Observations:**\n",
    "- The **maximum number of conflicting genes** lie in the **single nucleotide variant**.\n",
    "- **Insertion, inversion and microsatellite gene variant** have approximately **no conflicting genes**.\n",
    "- **Indel gene variant** has the **least number of conflicting genes**."
   ]
  },
  {
   "cell_type": "markdown",
   "metadata": {
    "colab_type": "text",
    "id": "wuYVdw48AVnS"
   },
   "source": [
    "**Question 7:** How many **conflicting genes** are present in the **final matured RNA version of the gene**?"
   ]
  },
  {
   "cell_type": "markdown",
   "metadata": {
    "colab_type": "text",
    "id": "zs4Jmvdi_5T0"
   },
   "source": [
    "**Note:** An **exon** is any part of a gene that will encode a part of the **final mature RNA produced by that gene after introns have been removed by RNA splicing**. The term exon refers to both the DNA sequence within a gene and to the corresponding sequence in RNA transcripts. In **RNA splicing**, introns are removed and **exons are covalently joined to one another as part of generating the mature messenger RNA**."
   ]
  },
  {
   "cell_type": "code",
   "execution_count": 74,
   "metadata": {
    "colab": {
     "base_uri": "https://localhost:8080/",
     "height": 457
    },
    "colab_type": "code",
    "executionInfo": {
     "elapsed": 39164,
     "status": "ok",
     "timestamp": 1591248955771,
     "user": {
      "displayName": "Prerna Bajaj",
      "photoUrl": "",
      "userId": "11609015255205782524"
     },
     "user_tz": -330
    },
    "id": "Kfknpm8oCv6M",
    "outputId": "e52a687b-9e83-4221-fbb7-a445cb253855"
   },
   "outputs": [
    {
     "data": {
      "text/plain": [
       "(-0.5, 20.5)"
      ]
     },
     "execution_count": 74,
     "metadata": {
      "tags": []
     },
     "output_type": "execute_result"
    },
    {
     "data": {
      "image/png": "[encoded data removed]",
      "text/plain": [
       "<Figure size 864x504 with 1 Axes>"
      ]
     },
     "metadata": {
      "needs_background": "light",
      "tags": []
     },
     "output_type": "display_data"
    }
   ],
   "source": [
    "g_data.EXON.fillna('0', inplace=True)\n",
    "g_data['variant_exon'] = g_data.EXON.apply(lambda x: [int(s) for s in re.findall(r'\\b\\d+\\b', x)][0])\n",
    "\n",
    "en = pd.crosstab(g_data['variant_exon'], g_data['CLASS'])\n",
    "en.plot.bar(figsize=(12, 7))\n",
    "plt.xlim(-0.5, 20.5)"
   ]
  },
  {
   "cell_type": "markdown",
   "metadata": {
    "colab_type": "text",
    "id": "NCrd7eOSHgIv"
   },
   "source": [
    "**Observations:**\n",
    "- Variant **exon = 0** represents that the **variant is located in the intron**.\n",
    "- **Intron variants** are **more conflicting** than the **exon variants**."
   ]
  },
  {
   "cell_type": "markdown",
   "metadata": {
    "colab_type": "text",
    "id": "7cCPhgHcCNa6"
   },
   "source": [
    "**Question 8: What is the possibility of conflicting/non-conflicting genes in forward and reverse strands in a gene?**"
   ]
  },
  {
   "cell_type": "markdown",
   "metadata": {
    "colab_type": "text",
    "id": "7KVBPwgRE5Xe"
   },
   "source": [
    "**Note:** Transcription is when RNA is made from DNA. The information is copied from one molecule to the other. **The DNA sequence is copied by a special enzyme** called RNA polymerase **to make a matching RNA strand**.\n",
    "\n",
    "Wherever a gene exists on a DNA molecule, **one strand is the coding strand** and the **other is the noncoding strand**."
   ]
  },
  {
   "cell_type": "code",
   "execution_count": 75,
   "metadata": {
    "colab": {
     "base_uri": "https://localhost:8080/",
     "height": 405
    },
    "colab_type": "code",
    "executionInfo": {
     "elapsed": 39137,
     "status": "ok",
     "timestamp": 1591248955774,
     "user": {
      "displayName": "Prerna Bajaj",
      "photoUrl": "",
      "userId": "11609015255205782524"
     },
     "user_tz": -330
    },
    "id": "MrL230jokGqU",
    "outputId": "59b470c1-4553-46db-d1a5-4dd4921a314d"
   },
   "outputs": [
    {
     "data": {
      "image/png": "[encoded data removed]",
      "text/plain": [
       "<Figure size 576x432 with 1 Axes>"
      ]
     },
     "metadata": {
      "needs_background": "light",
      "tags": []
     },
     "output_type": "display_data"
    }
   ],
   "source": [
    "figure = plt.figure(figsize = [8, 6])\n",
    "\n",
    "ax = sns.countplot(x = 'STRAND', hue = 'CLASS', data = g_data, palette = ['#38A7D0', '#F67088'])\n",
    "total = g_data.shape[0]\n",
    "\n",
    "for p in ax.patches:\n",
    "  percentage = '{:.2f}%'.format(100 * p.get_height() / total)\n",
    "  x = p.get_x() + p.get_width() / 3\n",
    "  y = p.get_y() + p.get_height()\n",
    "  ax.annotate(percentage, (x, y))\n",
    "\n",
    "plt.xlabel('STRAND', size = 12)\n",
    "plt.legend('Class',labels = ['0', '1'])\n",
    "plt.title('Conflicting/non-conflicting genes in forward and reverse strands', size = 16)\n",
    "plt.show()"
   ]
  },
  {
   "cell_type": "markdown",
   "metadata": {
    "colab_type": "text",
    "id": "jrV_UhbXFagP"
   },
   "source": [
    "**Observations:**\n",
    "- Possibility of **conflicting genes in reverse strands** is approximately **1.18 times than a forward strand**."
   ]
  },
  {
   "cell_type": "markdown",
   "metadata": {
    "colab_type": "text",
    "id": "L3WhmBScEZrM"
   },
   "source": [
    "**Question 9**: What do **Allele frequency values** indicate?"
   ]
  },
  {
   "cell_type": "markdown",
   "metadata": {
    "colab_type": "text",
    "id": "7sL-PlS0G2zg"
   },
   "source": [
    "**Note:** **Allele frequency** (also called gene frequency) is the term used to describe the **fraction of gene copies** that are of a **particular allele in a defined population**."
   ]
  },
  {
   "cell_type": "code",
   "execution_count": 76,
   "metadata": {
    "colab": {
     "base_uri": "https://localhost:8080/",
     "height": 423
    },
    "colab_type": "code",
    "executionInfo": {
     "elapsed": 39097,
     "status": "ok",
     "timestamp": 1591248955778,
     "user": {
      "displayName": "Prerna Bajaj",
      "photoUrl": "",
      "userId": "11609015255205782524"
     },
     "user_tz": -330
    },
    "id": "CsT7opLLK6Ww",
    "outputId": "08869c83-b7e3-4144-ea10-21d91b0ebb5b"
   },
   "outputs": [
    {
     "data": {
      "text/plain": [
       "Text(0.5, 1.0, 'Frequency of the AF features')"
      ]
     },
     "execution_count": 76,
     "metadata": {
      "tags": []
     },
     "output_type": "execute_result"
    },
    {
     "data": {
      "image/png": "[encoded data removed]",
      "text/plain": [
       "<Figure size 576x432 with 1 Axes>"
      ]
     },
     "metadata": {
      "needs_background": "light",
      "tags": []
     },
     "output_type": "display_data"
    }
   ],
   "source": [
    "plt.figure(figsize = (8,6))\n",
    "sns.kdeplot(g_data.AF_ESP, label=\"AF_ESP\")\n",
    "sns.kdeplot(g_data.AF_EXAC, label=\"AF_EXAC\")\n",
    "sns.kdeplot(g_data.AF_TGP, label=\"AF_TGP\")\n",
    "plt.xlabel('AF features', size = 14)\n",
    "plt.ylabel('Frequency', size = 14)\n",
    "plt.title('Frequency of the AF features', size = 14)"
   ]
  },
  {
   "cell_type": "markdown",
   "metadata": {
    "colab_type": "text",
    "id": "Y9nf5czDEjb-"
   },
   "source": [
    "**Observations:**\n",
    "- Most of the **AF values are low** which states that they have **less impact on conflicting genes**."
   ]
  },
  {
   "cell_type": "markdown",
   "metadata": {
    "colab_type": "text",
    "id": "SzCiAQbcEy1F"
   },
   "source": [
    "**Question 10:** What do the **CADD values** indicate?\n",
    "\n",
    "**Note:** **CADD** - **Combined Annotation Dependent Depletion**\n",
    "\n",
    "These are measures of **variant deleteriousness** that can effectively prioritize **causal variants in genetic analyses**, particularly highly penetrant contributors to severe disorders."
   ]
  },
  {
   "cell_type": "code",
   "execution_count": 77,
   "metadata": {
    "colab": {
     "base_uri": "https://localhost:8080/",
     "height": 423
    },
    "colab_type": "code",
    "executionInfo": {
     "elapsed": 39066,
     "status": "ok",
     "timestamp": 1591248955782,
     "user": {
      "displayName": "Prerna Bajaj",
      "photoUrl": "",
      "userId": "11609015255205782524"
     },
     "user_tz": -330
    },
    "id": "yX8fY4YpCvyW",
    "outputId": "5dede049-01f7-4842-d1b1-08f37669c813"
   },
   "outputs": [
    {
     "data": {
      "text/plain": [
       "Text(0.5, 1.0, 'Frequency of the CADD features')"
      ]
     },
     "execution_count": 77,
     "metadata": {
      "tags": []
     },
     "output_type": "execute_result"
    },
    {
     "data": {
      "image/png": "[encoded data removed]",
      "text/plain": [
       "<Figure size 576x432 with 1 Axes>"
      ]
     },
     "metadata": {
      "needs_background": "light",
      "tags": []
     },
     "output_type": "display_data"
    }
   ],
   "source": [
    "plt.figure(figsize = (8,6))\n",
    "sns.kdeplot(g_data.CADD_PHRED, label=\"CADD_PHRED\")\n",
    "sns.kdeplot(g_data.CADD_RAW, label=\"CADD_RAW\")\n",
    "plt.xlabel('CADD features', size = 14)\n",
    "plt.ylabel('Frequency', size = 14)\n",
    "plt.title('Frequency of the CADD features', size = 14)"
   ]
  },
  {
   "cell_type": "markdown",
   "metadata": {
    "colab_type": "text",
    "id": "jzYHoS_Rf246"
   },
   "source": [
    "**Observations**:\n",
    "- **CADD_RAW has a higher impact** on the number of conflicting genes as **compared to CADD_PHRED**."
   ]
  },
  {
   "cell_type": "markdown",
   "metadata": {
    "colab_type": "text",
    "id": "ggIXnTRRlKFY"
   },
   "source": [
    "**Question 11: What does the loss function depict about conflicting and non-conflicting genes?** "
   ]
  },
  {
   "cell_type": "markdown",
   "metadata": {
    "colab_type": "text",
    "id": "7dJrJKGvnyN_"
   },
   "source": [
    "**Note:** Loss-of-function genetic variants are frequently associated with severe underlying loss-of-function genetic variation"
   ]
  },
  {
   "cell_type": "code",
   "execution_count": 78,
   "metadata": {
    "colab": {
     "base_uri": "https://localhost:8080/",
     "height": 423
    },
    "colab_type": "code",
    "executionInfo": {
     "elapsed": 39036,
     "status": "ok",
     "timestamp": 1591248955785,
     "user": {
      "displayName": "Prerna Bajaj",
      "photoUrl": "",
      "userId": "11609015255205782524"
     },
     "user_tz": -330
    },
    "id": "CxspNjIHBR_f",
    "outputId": "863c4ce0-a53a-4077-825c-9499261d6816"
   },
   "outputs": [
    {
     "data": {
      "text/plain": [
       "Text(0.5, 1.0, 'Frequency of the LoFtool feature')"
      ]
     },
     "execution_count": 78,
     "metadata": {
      "tags": []
     },
     "output_type": "execute_result"
    },
    {
     "data": {
      "image/png": "[encoded data removed]",
      "text/plain": [
       "<Figure size 576x432 with 1 Axes>"
      ]
     },
     "metadata": {
      "needs_background": "light",
      "tags": []
     },
     "output_type": "display_data"
    }
   ],
   "source": [
    "plt.figure(figsize = (8,6))\n",
    "sns.kdeplot(g_data.LoFtool, label=\"LoFtool\")\n",
    "plt.xlabel('LoFtool feature', size = 14)\n",
    "plt.ylabel('Frequency', size = 14)\n",
    "plt.title('Frequency of the LoFtool feature', size = 14)"
   ]
  },
  {
   "cell_type": "markdown",
   "metadata": {
    "colab_type": "text",
    "id": "Ld6HQfxdE-KL"
   },
   "source": [
    "**Observations:**\n",
    "- Value of **loss function ranges from 0 to 1**.\n",
    "- Loss function has lower values and therefore has **less impact on conflicting genes**."
   ]
  },
  {
   "cell_type": "markdown",
   "metadata": {
    "colab_type": "text",
    "id": "gH5wCJPsk-0U"
   },
   "source": [
    "<a id = Section7></a>\n",
    "\n",
    "---\n",
    "# **7. Post Data Processing & Feature Selection**\n",
    "---\n",
    "\n",
    "- We will **store the proportion** of conflicting and non-conflicting genes.\n",
    "- And **finally** we will **split** our **data** for the **model development**."
   ]
  },
  {
   "cell_type": "markdown",
   "metadata": {
    "colab_type": "text",
    "id": "PeUj6VkDLS_l"
   },
   "source": [
    "<a id = Section73></a>\n",
    "### **7.1 Data Preparation**\n",
    "\n",
    "- **Calculating and storing the proportion of conflicting/non-conflicting genes**."
   ]
  },
  {
   "cell_type": "code",
   "execution_count": 79,
   "metadata": {
    "colab": {
     "base_uri": "https://localhost:8080/",
     "height": 102
    },
    "colab_type": "code",
    "executionInfo": {
     "elapsed": 38995,
     "status": "ok",
     "timestamp": 1591248955788,
     "user": {
      "displayName": "Prerna Bajaj",
      "photoUrl": "",
      "userId": "11609015255205782524"
     },
     "user_tz": -330
    },
    "id": "kUMtl7Bp0Ouv",
    "outputId": "7aad1177-5253-4973-a865-1a53c9977191"
   },
   "outputs": [
    {
     "name": "stdout",
     "output_type": "stream",
     "text": [
      "CLASS\n",
      "0    48754\n",
      "1    16434\n",
      "dtype: int64\n",
      "The fraction of classifications that are conflicting is 0.2521016137939498\n"
     ]
    }
   ],
   "source": [
    "g = g_data.groupby('CLASS').size()\n",
    "proportion_conflicting = g[1]/g.sum()\n",
    "print(g)\n",
    "print(\"The fraction of classifications that are conflicting is {}\".format(proportion_conflicting))"
   ]
  },
  {
   "cell_type": "markdown",
   "metadata": {
    "colab_type": "text",
    "id": "88pKO9cxLOnD"
   },
   "source": [
    "<a id = Section73></a>\n",
    "### **7.2 Data Preparation**\n",
    "\n",
    "- Now we will **split** our **data** in **training** and **testing** part for further development."
   ]
  },
  {
   "cell_type": "code",
   "execution_count": 0,
   "metadata": {
    "colab": {},
    "colab_type": "code",
    "collapsed": true,
    "id": "DODMHkfPyd_5"
   },
   "outputs": [],
   "source": [
    "#splitting data into training and test sets\n",
    "from sklearn.model_selection import train_test_split\n",
    "df_numeric_predictors = df_numeric.drop([\"CLASS\"], axis = 1)\n",
    "df_numeric_outcome = df_numeric[\"CLASS\"]\n",
    "xtrain, xtest, ytrain, ytest = train_test_split(df_numeric_predictors, df_numeric_outcome, test_size=0.33, random_state=42)"
   ]
  },
  {
   "cell_type": "code",
   "execution_count": 81,
   "metadata": {
    "colab": {
     "base_uri": "https://localhost:8080/",
     "height": 51
    },
    "colab_type": "code",
    "executionInfo": {
     "elapsed": 38951,
     "status": "ok",
     "timestamp": 1591248955793,
     "user": {
      "displayName": "Prerna Bajaj",
      "photoUrl": "",
      "userId": "11609015255205782524"
     },
     "user_tz": -330
    },
    "id": "hsVH3tCALmJ2",
    "outputId": "c0f87bbf-56df-4578-e887-0b27921b748e"
   },
   "outputs": [
    {
     "name": "stdout",
     "output_type": "stream",
     "text": [
      "Training Data Shape: (33104, 12) (33104,)\n",
      "Testing Data Shape: (16306, 12) (16306,)\n"
     ]
    }
   ],
   "source": [
    "print('Training Data Shape:', xtrain.shape, ytrain.shape)\n",
    "print('Testing Data Shape:', xtest.shape, ytest.shape)"
   ]
  },
  {
   "cell_type": "markdown",
   "metadata": {
    "colab_type": "text",
    "id": "0aD2WDxcLtsP"
   },
   "source": [
    "**Observation:**\n",
    "\n",
    "- Now that we have split out our data, we are **good to go with model development**."
   ]
  },
  {
   "cell_type": "markdown",
   "metadata": {
    "colab_type": "text",
    "id": "rC51V_mZL2KZ"
   },
   "source": [
    "<a id = Section8></a>\n",
    "\n",
    "---\n",
    "# **8. Model Development & Evaluation**\n",
    "---\n",
    "\n",
    "- In this section we will **develop different models**.\n",
    "- Then we will **compare the results** obtained from them and make our observations.\n",
    "- For **evaluation purpose** we will plot **precision and recall** for **each estimator** for which a **custom function** is made below .\n",
    "- We also use **confusion matrix** for **validation** purpose.\n",
    "- **Remember** that **we want generalize results** i.e. same results or error in testing data as that of training data.\n",
    "- **At the end** we will **tune** our **models if required**."
   ]
  },
  {
   "cell_type": "markdown",
   "metadata": {
    "colab_type": "text",
    "id": "zhuLKOHOMWhv"
   },
   "source": [
    "**Custom function for precision and recall.**"
   ]
  },
  {
   "cell_type": "code",
   "execution_count": 0,
   "metadata": {
    "colab": {},
    "colab_type": "code",
    "collapsed": true,
    "id": "_AmY-58lOsPa"
   },
   "outputs": [],
   "source": [
    "def plot_precision_recall(y_true, y_pred, train_or_test):\n",
    "  '''\n",
    "  y_true: Acutal values of the target\n",
    "  y_pred: Predicted values of the target. Either predict_proba or decision_function\n",
    "  line_show: Plot avergae values \"precision\" or \"recall\"\n",
    "  train_or_test: Train Data or Test Data\n",
    "  '''\n",
    "  precisions, recalls, thresholds = precision_recall_curve(y_true = y_true, probas_pred = y_pred)\n",
    "\n",
    "  average_precision = np.mean(precisions)\n",
    "  average_recall = np.mean(recalls)\n",
    "\n",
    "  sns.lineplot(x = recalls, y = precisions, linewidth = 2)\n",
    "  plt.plot([0, 1], [average_precision, average_precision], 'r-')\n",
    "  plt.plot([average_recall, average_recall], [0, 1], 'g-')\n",
    "  plt.xlabel('Recall', fontsize = 14)\n",
    "  plt.xticks(ticks = [0, 0.1, 0.2, 0.3, 0.4, 0.5, 0.6, 0.7, 0.8, 0.9, 1.0])\n",
    "  plt.yticks(ticks = [0, 0.1, 0.2, 0.3, 0.4, 0.5, 0.6, 0.7, 0.8, 0.9, 1.0])\n",
    "  plt.ylabel('Precision', fontsize = 14)\n",
    "  plt.title(train_or_test, fontsize = 16)\n",
    "  plt.legend(labels = ['Binary PR Curve', 'AP {:.2f}'.format(average_precision), 'AR {:.2f}'.format(average_recall)])\n",
    "  plt.grid(True)"
   ]
  },
  {
   "cell_type": "markdown",
   "metadata": {
    "colab_type": "text",
    "id": "wzZdV20QMgIE"
   },
   "source": [
    "<a id = Section81></a>\n",
    "## **8.1 Essential Features Models**"
   ]
  },
  {
   "cell_type": "markdown",
   "metadata": {
    "colab_type": "text",
    "id": "u9AH8oqEylIl"
   },
   "source": [
    "<a id = Section811></a>\n",
    "### **8.1.1 Logistic Regression**"
   ]
  },
  {
   "cell_type": "code",
   "execution_count": 0,
   "metadata": {
    "colab": {},
    "colab_type": "code",
    "collapsed": true,
    "id": "PkapncCzORY-"
   },
   "outputs": [],
   "source": [
    "log  = LogisticRegression(random_state = 42)\n",
    "log.fit(xtrain, ytrain)\n",
    "\n",
    "y_train_pred_count = log.predict(xtrain)\n",
    "y_test_pred_count = log.predict(xtest)\n",
    "\n",
    "y_train_pred_proba = log.predict_proba(xtrain)\n",
    "y_test_pred_proba = log.predict_proba(xtest)"
   ]
  },
  {
   "cell_type": "code",
   "execution_count": 84,
   "metadata": {
    "colab": {
     "base_uri": "https://localhost:8080/",
     "height": 357
    },
    "colab_type": "code",
    "executionInfo": {
     "elapsed": 38864,
     "status": "ok",
     "timestamp": 1591248955800,
     "user": {
      "displayName": "Prerna Bajaj",
      "photoUrl": "",
      "userId": "11609015255205782524"
     },
     "user_tz": -330
    },
    "id": "9yRZZz9dOhOW",
    "outputId": "6ebd5d9a-3b0f-4e51-df1a-fedb543ffa93"
   },
   "outputs": [
    {
     "name": "stdout",
     "output_type": "stream",
     "text": [
      "                    Training Report          \n",
      "              precision    recall  f1-score   support\n",
      "\n",
      "           0       0.75      1.00      0.86     24811\n",
      "           1       0.00      0.00      0.00      8293\n",
      "\n",
      "    accuracy                           0.75     33104\n",
      "   macro avg       0.37      0.50      0.43     33104\n",
      "weighted avg       0.56      0.75      0.64     33104\n",
      "\n",
      "                    Testing Report           \n",
      "              precision    recall  f1-score   support\n",
      "\n",
      "           0       0.75      1.00      0.86     12180\n",
      "           1       0.00      0.00      0.00      4126\n",
      "\n",
      "    accuracy                           0.75     16306\n",
      "   macro avg       0.37      0.50      0.43     16306\n",
      "weighted avg       0.56      0.75      0.64     16306\n",
      "\n"
     ]
    }
   ],
   "source": [
    "logistic_report_train = classification_report(ytrain, y_train_pred_count)\n",
    "logistic_report_test = classification_report(ytest, y_test_pred_count)\n",
    "print('                    Training Report          ')\n",
    "print(logistic_report_train)\n",
    "print('                    Testing Report           ')\n",
    "print(logistic_report_test)"
   ]
  },
  {
   "cell_type": "code",
   "execution_count": 85,
   "metadata": {
    "colab": {
     "base_uri": "https://localhost:8080/",
     "height": 493
    },
    "colab_type": "code",
    "executionInfo": {
     "elapsed": 207621,
     "status": "ok",
     "timestamp": 1591249124580,
     "user": {
      "displayName": "Prerna Bajaj",
      "photoUrl": "",
      "userId": "11609015255205782524"
     },
     "user_tz": -330
    },
    "id": "l6IFrLENOm6c",
    "outputId": "f187ed0f-2ac5-45db-ca55-23350039962d"
   },
   "outputs": [
    {
     "data": {
      "image/png": "[encoded data removed]",
      "text/plain": [
       "<Figure size 1080x504 with 2 Axes>"
      ]
     },
     "metadata": {
      "needs_background": "light",
      "tags": []
     },
     "output_type": "display_data"
    }
   ],
   "source": [
    "figure = plt.figure(figsize = [15, 7])\n",
    "plt.subplot(1, 2, 1)\n",
    "plot_precision_recall(y_true = ytrain, y_pred = y_train_pred_proba[:,1], train_or_test ='Train Data')\n",
    "\n",
    "plt.subplot(1, 2, 2)\n",
    "plot_precision_recall(y_true = ytest, y_pred = y_test_pred_proba[:, 1], train_or_test = 'Test Data')\n",
    "\n",
    "plt.suptitle('Precision & Recall Curve', size = 16)\n",
    "plt.show()"
   ]
  },
  {
   "cell_type": "markdown",
   "metadata": {
    "colab_type": "text",
    "id": "twdJ53yfpt3r"
   },
   "source": [
    "**Observation:**\n",
    "\n",
    "- We can see that **average precision** for **training data is 25%** while **for testing data it is 25%**.\n",
    "- The **average recall** for **training data is 50%** while **for testing data it is 50%**."
   ]
  },
  {
   "cell_type": "code",
   "execution_count": 86,
   "metadata": {
    "colab": {
     "base_uri": "https://localhost:8080/",
     "height": 468
    },
    "colab_type": "code",
    "executionInfo": {
     "elapsed": 207598,
     "status": "ok",
     "timestamp": 1591249124584,
     "user": {
      "displayName": "Prerna Bajaj",
      "photoUrl": "",
      "userId": "11609015255205782524"
     },
     "user_tz": -330
    },
    "id": "MIqtc7k3RN0q",
    "outputId": "e14b5369-3b9d-4461-a39a-4d8f94f29bd8"
   },
   "outputs": [
    {
     "data": {
      "image/png": "[encoded data removed]",
      "text/plain": [
       "<Figure size 864x504 with 4 Axes>"
      ]
     },
     "metadata": {
      "needs_background": "light",
      "tags": []
     },
     "output_type": "display_data"
    }
   ],
   "source": [
    "fig, (ax1, ax2) = plt.subplots(nrows = 1, ncols = 2, sharex = False, figsize=(12, 7))\n",
    "plot_confusion_matrix(estimator = log, X = xtrain, y_true = ytrain, values_format = '.5g', cmap = 'Blues', ax = ax1)\n",
    "plot_confusion_matrix(estimator = log, X = xtest, y_true = ytest, values_format = '.5g', cmap = 'Blues', ax = ax2)\n",
    "ax1.set_title(label = 'Train Data', size = 12)\n",
    "ax2.set_title(label = 'Test Data', size = 12)\n",
    "ax1.grid(b = False)\n",
    "ax2.grid(b = False)\n",
    "plt.suptitle(t = 'Confusion Matrix', size = 12)\n",
    "plt.show()"
   ]
  },
  {
   "cell_type": "markdown",
   "metadata": {
    "colab_type": "text",
    "id": "3NYLThLaxDBu"
   },
   "source": [
    "**Observation:**\n",
    "\n",
    "- **Train Data:**\n",
    "  - Model predicted **24811 instances correctly** for **negative class** while **0 instances** were predicted **correctly** for **positive class**.\n",
    "  - Model **identified 8293 instances negative but in actual** they **were positive**.\n",
    "  - Model **identified 0 instances positive but in actual** they **were negative**.\n",
    "\n",
    "- **Test Data:**\n",
    "  - Model predicted **12180 instances correctly** for **negative class** while **0 instances** were predicted **correctly** for **positive class**.\n",
    "  - Model **identified 4126 instance negative but in actual** they **were positive**.\n",
    "  - Model **identified 0 instances positive but in actual** they **were negative**."
   ]
  },
  {
   "cell_type": "markdown",
   "metadata": {
    "colab_type": "text",
    "id": "oo14oBEWMnJQ"
   },
   "source": [
    "<a id = Section812></a>\n",
    "### **8.1.2 Ada Boost Classifier**"
   ]
  },
  {
   "cell_type": "code",
   "execution_count": 0,
   "metadata": {
    "colab": {},
    "colab_type": "code",
    "collapsed": true,
    "id": "t-rPahIiVHge"
   },
   "outputs": [],
   "source": [
    "abc  = AdaBoostClassifier()\n",
    "abc.fit(xtrain, ytrain)\n",
    "\n",
    "y_train_pred_count = abc.predict(xtrain)\n",
    "y_test_pred_count = abc.predict(xtest)\n",
    "\n",
    "y_train_pred_proba = abc.predict_proba(xtrain)\n",
    "y_test_pred_proba = abc.predict_proba(xtest)"
   ]
  },
  {
   "cell_type": "code",
   "execution_count": 88,
   "metadata": {
    "colab": {
     "base_uri": "https://localhost:8080/",
     "height": 357
    },
    "colab_type": "code",
    "executionInfo": {
     "elapsed": 210163,
     "status": "ok",
     "timestamp": 1591249127196,
     "user": {
      "displayName": "Prerna Bajaj",
      "photoUrl": "",
      "userId": "11609015255205782524"
     },
     "user_tz": -330
    },
    "id": "a2sjcmNBVRux",
    "outputId": "ed677620-ca07-4d18-fee3-67d6154de08a"
   },
   "outputs": [
    {
     "name": "stdout",
     "output_type": "stream",
     "text": [
      "                    Training Report          \n",
      "              precision    recall  f1-score   support\n",
      "\n",
      "           0       0.77      0.95      0.85     24811\n",
      "           1       0.53      0.16      0.24      8293\n",
      "\n",
      "    accuracy                           0.75     33104\n",
      "   macro avg       0.65      0.56      0.55     33104\n",
      "weighted avg       0.71      0.75      0.70     33104\n",
      "\n",
      "                    Testing Report           \n",
      "              precision    recall  f1-score   support\n",
      "\n",
      "           0       0.77      0.95      0.85     12180\n",
      "           1       0.55      0.16      0.25      4126\n",
      "\n",
      "    accuracy                           0.75     16306\n",
      "   macro avg       0.66      0.56      0.55     16306\n",
      "weighted avg       0.71      0.75      0.70     16306\n",
      "\n"
     ]
    }
   ],
   "source": [
    "abc_report_train = classification_report(ytrain, y_train_pred_count)\n",
    "abc_report_test = classification_report(ytest, y_test_pred_count)\n",
    "print('                    Training Report          ')\n",
    "print(abc_report_train)\n",
    "print('                    Testing Report           ')\n",
    "print(abc_report_test)"
   ]
  },
  {
   "cell_type": "code",
   "execution_count": 89,
   "metadata": {
    "colab": {
     "base_uri": "https://localhost:8080/",
     "height": 493
    },
    "colab_type": "code",
    "executionInfo": {
     "elapsed": 245639,
     "status": "ok",
     "timestamp": 1591249162692,
     "user": {
      "displayName": "Prerna Bajaj",
      "photoUrl": "",
      "userId": "11609015255205782524"
     },
     "user_tz": -330
    },
    "id": "lf6qqOaaVVC9",
    "outputId": "02e1d087-102f-4602-9a93-9d9fc4f55c23"
   },
   "outputs": [
    {
     "data": {
      "image/png": "[encoded data removed]",
      "text/plain": [
       "<Figure size 1080x504 with 2 Axes>"
      ]
     },
     "metadata": {
      "needs_background": "light",
      "tags": []
     },
     "output_type": "display_data"
    }
   ],
   "source": [
    "figure = plt.figure(figsize = [15, 7])\n",
    "plt.subplot(1, 2, 1)\n",
    "plot_precision_recall(y_true = ytrain, y_pred = y_train_pred_proba[:,1], train_or_test ='Train Data')\n",
    "\n",
    "plt.subplot(1, 2, 2)\n",
    "plot_precision_recall(y_true = ytest, y_pred = y_test_pred_proba[:, 1], train_or_test = 'Test Data')\n",
    "\n",
    "plt.suptitle('Precision & Recall Curve', size = 16)\n",
    "plt.show()"
   ]
  },
  {
   "cell_type": "markdown",
   "metadata": {
    "colab_type": "text",
    "id": "ZdhQz_0OqG53"
   },
   "source": [
    "**Observation:**\n",
    "\n",
    "- We can see that **average precision** for **training data is 42%** while **for testing data it is 42%**.\n",
    "- The **average recall** for **training data is 58%** while **for testing data it is 59%**."
   ]
  },
  {
   "cell_type": "code",
   "execution_count": 90,
   "metadata": {
    "colab": {
     "base_uri": "https://localhost:8080/",
     "height": 462
    },
    "colab_type": "code",
    "executionInfo": {
     "elapsed": 245622,
     "status": "ok",
     "timestamp": 1591249162694,
     "user": {
      "displayName": "Prerna Bajaj",
      "photoUrl": "",
      "userId": "11609015255205782524"
     },
     "user_tz": -330
    },
    "id": "hin8UMFxVXqa",
    "outputId": "f3e9558e-c32b-418f-e9a2-6d26acc22b11"
   },
   "outputs": [
    {
     "data": {
      "image/png": "[encoded data removed]",
      "text/plain": [
       "<Figure size 864x504 with 4 Axes>"
      ]
     },
     "metadata": {
      "needs_background": "light",
      "tags": []
     },
     "output_type": "display_data"
    }
   ],
   "source": [
    "fig, (ax1, ax2) = plt.subplots(nrows = 1, ncols = 2, sharex = False, figsize=(12, 7))\n",
    "plot_confusion_matrix(estimator = abc, X = xtrain, y_true = ytrain, values_format = '.5g', cmap = 'Blues', ax = ax1)\n",
    "plot_confusion_matrix(estimator = abc, X = xtest, y_true = ytest, values_format = '.5g', cmap = 'Blues', ax = ax2)\n",
    "ax1.set_title(label = 'Train Data', size = 12)\n",
    "ax2.set_title(label = 'Test Data', size = 12)\n",
    "ax1.grid(b = False)\n",
    "ax2.grid(b = False)\n",
    "plt.suptitle(t = 'Confusion Matrix', size = 12)\n",
    "plt.show()"
   ]
  },
  {
   "cell_type": "markdown",
   "metadata": {
    "colab_type": "text",
    "id": "51BC4gZ_x9dJ"
   },
   "source": [
    "**Observation:**\n",
    "\n",
    "- **Train Data:**\n",
    "  - Model predicted **23662 instances correctly** for **negative class** while **1309 instances** were predicted **correctly** for **positive class**.\n",
    "  - Model **identified 6984 instances negative but in actual** they **were positive**.\n",
    "  - Model **identified 1149 instances positive but in actual** they **were negative**.\n",
    "\n",
    "- **Test Data:**\n",
    "  - Model predicted **11630 instances correctly** for **negative class** while **660 instances** were predicted **correctly** for **positive class**.\n",
    "  - Model **identified 3466 instance negative but in actual** they **were positive**.\n",
    "  - Model **identified 550 instances positive but in actual** they **were negative**."
   ]
  },
  {
   "cell_type": "markdown",
   "metadata": {
    "colab_type": "text",
    "id": "kztZ9EgQMwET"
   },
   "source": [
    "<a id = Section813></a>\n",
    "### **8.1.3 k-Nearest Neighbor Classifier**"
   ]
  },
  {
   "cell_type": "code",
   "execution_count": 0,
   "metadata": {
    "colab": {},
    "colab_type": "code",
    "collapsed": true,
    "id": "XHqoemBzVgxS"
   },
   "outputs": [],
   "source": [
    "knc  = KNeighborsClassifier()\n",
    "knc.fit(xtrain, ytrain)\n",
    "\n",
    "y_train_pred_count = knc.predict(xtrain)\n",
    "y_test_pred_count = knc.predict(xtest)\n",
    "\n",
    "y_train_pred_proba = knc.predict_proba(xtrain)\n",
    "y_test_pred_proba = knc.predict_proba(xtest)"
   ]
  },
  {
   "cell_type": "code",
   "execution_count": 92,
   "metadata": {
    "colab": {
     "base_uri": "https://localhost:8080/",
     "height": 357
    },
    "colab_type": "code",
    "executionInfo": {
     "elapsed": 245588,
     "status": "ok",
     "timestamp": 1591249162696,
     "user": {
      "displayName": "Prerna Bajaj",
      "photoUrl": "",
      "userId": "11609015255205782524"
     },
     "user_tz": -330
    },
    "id": "JT0twdUSVjuY",
    "outputId": "9cbcff9b-15b8-451f-a511-94104f0472cd"
   },
   "outputs": [
    {
     "name": "stdout",
     "output_type": "stream",
     "text": [
      "                    Training Report          \n",
      "              precision    recall  f1-score   support\n",
      "\n",
      "           0       0.81      0.94      0.87     24811\n",
      "           1       0.65      0.35      0.46      8293\n",
      "\n",
      "    accuracy                           0.79     33104\n",
      "   macro avg       0.73      0.65      0.66     33104\n",
      "weighted avg       0.77      0.79      0.77     33104\n",
      "\n",
      "                    Testing Report           \n",
      "              precision    recall  f1-score   support\n",
      "\n",
      "           0       0.76      0.88      0.82     12180\n",
      "           1       0.35      0.19      0.24      4126\n",
      "\n",
      "    accuracy                           0.70     16306\n",
      "   macro avg       0.55      0.53      0.53     16306\n",
      "weighted avg       0.66      0.70      0.67     16306\n",
      "\n"
     ]
    }
   ],
   "source": [
    "knc_report_train = classification_report(ytrain, y_train_pred_count)\n",
    "knc_report_test = classification_report(ytest, y_test_pred_count)\n",
    "print('                    Training Report          ')\n",
    "print(knc_report_train)\n",
    "print('                    Testing Report           ')\n",
    "print(knc_report_test)"
   ]
  },
  {
   "cell_type": "code",
   "execution_count": 93,
   "metadata": {
    "colab": {
     "base_uri": "https://localhost:8080/",
     "height": 493
    },
    "colab_type": "code",
    "executionInfo": {
     "elapsed": 245572,
     "status": "ok",
     "timestamp": 1591249162697,
     "user": {
      "displayName": "Prerna Bajaj",
      "photoUrl": "",
      "userId": "11609015255205782524"
     },
     "user_tz": -330
    },
    "id": "vG9tQ2zHVlie",
    "outputId": "5aa5442b-9cd4-45a1-e200-d78c95513a76"
   },
   "outputs": [
    {
     "data": {
      "image/png": "[encoded data removed]",
      "text/plain": [
       "<Figure size 1080x504 with 2 Axes>"
      ]
     },
     "metadata": {
      "needs_background": "light",
      "tags": []
     },
     "output_type": "display_data"
    }
   ],
   "source": [
    "figure = plt.figure(figsize = [15, 7])\n",
    "plt.subplot(1, 2, 1)\n",
    "plot_precision_recall(y_true = ytrain, y_pred = y_train_pred_proba[:,1], train_or_test ='Train Data')\n",
    "\n",
    "plt.subplot(1, 2, 2)\n",
    "plot_precision_recall(y_true = ytest, y_pred = y_test_pred_proba[:, 1], train_or_test = 'Test Data')\n",
    "\n",
    "plt.suptitle('Precision & Recall Curve', size = 16)\n",
    "plt.show()"
   ]
  },
  {
   "cell_type": "markdown",
   "metadata": {
    "colab_type": "text",
    "id": "nZyTsaDzrlJJ"
   },
   "source": [
    "**Observation:**\n",
    "\n",
    "- We can see that **average precision** for **training data is 72%** while **for testing data it is 42%**.\n",
    "- The **average recall** for **training data is 37%** while **for testing data it is 36%**."
   ]
  },
  {
   "cell_type": "code",
   "execution_count": 94,
   "metadata": {
    "colab": {
     "base_uri": "https://localhost:8080/",
     "height": 462
    },
    "colab_type": "code",
    "executionInfo": {
     "elapsed": 247137,
     "status": "ok",
     "timestamp": 1591249164282,
     "user": {
      "displayName": "Prerna Bajaj",
      "photoUrl": "",
      "userId": "11609015255205782524"
     },
     "user_tz": -330
    },
    "id": "uQKXyMSsVn13",
    "outputId": "307fb64d-16e3-4f23-ab07-7116e4fa8469"
   },
   "outputs": [
    {
     "data": {
      "image/png": "[encoded data removed]",
      "text/plain": [
       "<Figure size 864x504 with 4 Axes>"
      ]
     },
     "metadata": {
      "needs_background": "light",
      "tags": []
     },
     "output_type": "display_data"
    }
   ],
   "source": [
    "fig, (ax1, ax2) = plt.subplots(nrows = 1, ncols = 2, sharex = False, figsize=(12, 7))\n",
    "plot_confusion_matrix(estimator = knc, X = xtrain, y_true = ytrain, values_format = '.5g', cmap = 'Blues', ax = ax1)\n",
    "plot_confusion_matrix(estimator = knc, X = xtest, y_true = ytest, values_format = '.5g', cmap = 'Blues', ax = ax2)\n",
    "ax1.set_title(label = 'Train Data', size = 12)\n",
    "ax2.set_title(label = 'Test Data', size = 12)\n",
    "ax1.grid(b = False)\n",
    "ax2.grid(b = False)\n",
    "plt.suptitle(t = 'Confusion Matrix', size = 12)\n",
    "plt.show()"
   ]
  },
  {
   "cell_type": "markdown",
   "metadata": {
    "colab_type": "text",
    "id": "5GwDPI3YyULP"
   },
   "source": [
    "**Observation:**\n",
    "\n",
    "- **Train Data:**\n",
    "  - Model predicted **23242 instances correctly** for **negative class** while **2942 instances** were predicted **correctly** for **positive class**.\n",
    "  - Model **identified 5351 instances negative but in actual** they **were positive**.\n",
    "  - Model **identified 1569 instances positive but in actual** they **were negative**.\n",
    "\n",
    "- **Test Data:**\n",
    "  - Model predicted **10720 instances correctly** for **negative class** while **772 instances** were predicted **correctly** for **positive class**.\n",
    "  - Model **identified 3354 instance negative but in actual** they **were positive**.\n",
    "  - Model **identified 1460 instances positive but in actual** they **were negative**."
   ]
  },
  {
   "cell_type": "markdown",
   "metadata": {
    "colab_type": "text",
    "id": "nGTwZyvcM4w6"
   },
   "source": [
    "<a id = Section814></a>\n",
    "### **8.1.4 Gradient Boosting Classifier**"
   ]
  },
  {
   "cell_type": "code",
   "execution_count": 0,
   "metadata": {
    "colab": {},
    "colab_type": "code",
    "collapsed": true,
    "id": "dgGoD-YFVs9U"
   },
   "outputs": [],
   "source": [
    "gbc = GradientBoostingClassifier()\n",
    "gbc.fit(xtrain, ytrain)\n",
    "\n",
    "y_train_pred_count = gbc.predict(xtrain)\n",
    "y_test_pred_count = gbc.predict(xtest)\n",
    "\n",
    "y_train_pred_proba = gbc.predict_proba(xtrain)\n",
    "y_test_pred_proba = gbc.predict_proba(xtest)"
   ]
  },
  {
   "cell_type": "code",
   "execution_count": 96,
   "metadata": {
    "colab": {
     "base_uri": "https://localhost:8080/",
     "height": 357
    },
    "colab_type": "code",
    "executionInfo": {
     "elapsed": 255362,
     "status": "ok",
     "timestamp": 1591249172531,
     "user": {
      "displayName": "Prerna Bajaj",
      "photoUrl": "",
      "userId": "11609015255205782524"
     },
     "user_tz": -330
    },
    "id": "zSMp_jsIVwLP",
    "outputId": "b5242f31-15cf-4e65-efe5-e107f3ae811d"
   },
   "outputs": [
    {
     "name": "stdout",
     "output_type": "stream",
     "text": [
      "                    Training Report          \n",
      "              precision    recall  f1-score   support\n",
      "\n",
      "           0       0.78      0.96      0.86     24811\n",
      "           1       0.62      0.20      0.30      8293\n",
      "\n",
      "    accuracy                           0.77     33104\n",
      "   macro avg       0.70      0.58      0.58     33104\n",
      "weighted avg       0.74      0.77      0.72     33104\n",
      "\n",
      "                    Testing Report           \n",
      "              precision    recall  f1-score   support\n",
      "\n",
      "           0       0.77      0.96      0.86     12180\n",
      "           1       0.57      0.18      0.27      4126\n",
      "\n",
      "    accuracy                           0.76     16306\n",
      "   macro avg       0.67      0.57      0.56     16306\n",
      "weighted avg       0.72      0.76      0.71     16306\n",
      "\n"
     ]
    }
   ],
   "source": [
    "gbc_report_train = classification_report(ytrain, y_train_pred_count)\n",
    "gbc_report_test = classification_report(ytest, y_test_pred_count)\n",
    "print('                    Training Report          ')\n",
    "print(gbc_report_train)\n",
    "print('                    Testing Report           ')\n",
    "print(gbc_report_test)"
   ]
  },
  {
   "cell_type": "code",
   "execution_count": 97,
   "metadata": {
    "colab": {
     "base_uri": "https://localhost:8080/",
     "height": 493
    },
    "colab_type": "code",
    "executionInfo": {
     "elapsed": 387279,
     "status": "ok",
     "timestamp": 1591249304461,
     "user": {
      "displayName": "Prerna Bajaj",
      "photoUrl": "",
      "userId": "11609015255205782524"
     },
     "user_tz": -330
    },
    "id": "1qr6nhqGVyvD",
    "outputId": "c40889ec-f877-4466-b935-10c6dad74f28"
   },
   "outputs": [
    {
     "data": {
      "image/png": "[encoded data removed]",
      "text/plain": [
       "<Figure size 1080x504 with 2 Axes>"
      ]
     },
     "metadata": {
      "needs_background": "light",
      "tags": []
     },
     "output_type": "display_data"
    }
   ],
   "source": [
    "figure = plt.figure(figsize = [15, 7])\n",
    "plt.subplot(1, 2, 1)\n",
    "plot_precision_recall(y_true = ytrain, y_pred = y_train_pred_proba[:,1], train_or_test ='Train Data')\n",
    "\n",
    "plt.subplot(1, 2, 2)\n",
    "plot_precision_recall(y_true = ytest, y_pred = y_test_pred_proba[:, 1], train_or_test = 'Test Data')\n",
    "\n",
    "plt.suptitle('Precision & Recall Curve', size = 16)\n",
    "plt.show()"
   ]
  },
  {
   "cell_type": "markdown",
   "metadata": {
    "colab_type": "text",
    "id": "_7Asz8PevQst"
   },
   "source": [
    "**Observation:**\n",
    "\n",
    "- We can see that **average precision** for **training data is 45%** while **for testing data it is 43%**.\n",
    "- The **average recall** for **training data is 62%** while **for testing data it is 63%**."
   ]
  },
  {
   "cell_type": "code",
   "execution_count": 98,
   "metadata": {
    "colab": {
     "base_uri": "https://localhost:8080/",
     "height": 462
    },
    "colab_type": "code",
    "executionInfo": {
     "elapsed": 387273,
     "status": "ok",
     "timestamp": 1591249304467,
     "user": {
      "displayName": "Prerna Bajaj",
      "photoUrl": "",
      "userId": "11609015255205782524"
     },
     "user_tz": -330
    },
    "id": "c7CF8ucDVyiX",
    "outputId": "53c52b00-5b59-4505-cc56-b228e62089d7"
   },
   "outputs": [
    {
     "data": {
      "image/png": "[encoded data removed]",
      "text/plain": [
       "<Figure size 864x504 with 4 Axes>"
      ]
     },
     "metadata": {
      "needs_background": "light",
      "tags": []
     },
     "output_type": "display_data"
    }
   ],
   "source": [
    "fig, (ax1, ax2) = plt.subplots(nrows = 1, ncols = 2, sharex = False, figsize=(12, 7))\n",
    "plot_confusion_matrix(estimator = gbc, X = xtrain, y_true = ytrain, values_format = '.5g', cmap = 'Blues', ax = ax1)\n",
    "plot_confusion_matrix(estimator = gbc, X = xtest, y_true = ytest, values_format = '.5g', cmap = 'Blues', ax = ax2)\n",
    "ax1.set_title(label = 'Train Data', size = 12)\n",
    "ax2.set_title(label = 'Test Data', size = 12)\n",
    "ax1.grid(b = False)\n",
    "ax2.grid(b = False)\n",
    "plt.suptitle(t = 'Confusion Matrix', size = 12)\n",
    "plt.show()"
   ]
  },
  {
   "cell_type": "markdown",
   "metadata": {
    "colab_type": "text",
    "id": "KIvEm-owypx5"
   },
   "source": [
    "**Observation:**\n",
    "\n",
    "- **Train Data:**\n",
    "  - Model predicted **23791 instances correctly** for **negative class** while **1631 instances** were predicted **correctly** for **positive class**.\n",
    "  - Model **identified 6662 instances negative but in actual** they **were positive**.\n",
    "  - Model **identified 1020 instances positive but in actual** they **were negative**.\n",
    "\n",
    "- **Test Data:**\n",
    "  - Model predicted **11640 instances correctly** for **negative class** while **727 instances** were predicted **correctly** for **positive class**.\n",
    "  - Model **identified 3399 instance negative but in actual** they **were positive**.\n",
    "  - Model **identified 540 instances positive but in actual** they **were negative**."
   ]
  },
  {
   "cell_type": "markdown",
   "metadata": {
    "colab_type": "text",
    "id": "W1Unbz7JM_V5"
   },
   "source": [
    "<a id = Section815></a>\n",
    "### **8.1.5 Decision Tree Classifier**"
   ]
  },
  {
   "cell_type": "code",
   "execution_count": 0,
   "metadata": {
    "colab": {},
    "colab_type": "code",
    "collapsed": true,
    "id": "_tXdwNYTVyey"
   },
   "outputs": [],
   "source": [
    "dtc  = DecisionTreeClassifier()\n",
    "dtc.fit(xtrain, ytrain)\n",
    "\n",
    "y_train_pred_count = dtc.predict(xtrain)\n",
    "y_test_pred_count = dtc.predict(xtest)\n",
    "\n",
    "y_train_pred_proba = dtc.predict_proba(xtrain)\n",
    "y_test_pred_proba = dtc.predict_proba(xtest)"
   ]
  },
  {
   "cell_type": "code",
   "execution_count": 100,
   "metadata": {
    "colab": {
     "base_uri": "https://localhost:8080/",
     "height": 357
    },
    "colab_type": "code",
    "executionInfo": {
     "elapsed": 387255,
     "status": "ok",
     "timestamp": 1591249304473,
     "user": {
      "displayName": "Prerna Bajaj",
      "photoUrl": "",
      "userId": "11609015255205782524"
     },
     "user_tz": -330
    },
    "id": "vNtE-jD4WATO",
    "outputId": "51c3a212-151c-4bc3-c3a3-65a91b5c5db2"
   },
   "outputs": [
    {
     "name": "stdout",
     "output_type": "stream",
     "text": [
      "                    Training Report          \n",
      "              precision    recall  f1-score   support\n",
      "\n",
      "           0       1.00      1.00      1.00     24811\n",
      "           1       1.00      1.00      1.00      8293\n",
      "\n",
      "    accuracy                           1.00     33104\n",
      "   macro avg       1.00      1.00      1.00     33104\n",
      "weighted avg       1.00      1.00      1.00     33104\n",
      "\n",
      "                    Testing Report           \n",
      "              precision    recall  f1-score   support\n",
      "\n",
      "           0       0.79      0.80      0.79     12180\n",
      "           1       0.39      0.39      0.39      4126\n",
      "\n",
      "    accuracy                           0.69     16306\n",
      "   macro avg       0.59      0.59      0.59     16306\n",
      "weighted avg       0.69      0.69      0.69     16306\n",
      "\n"
     ]
    }
   ],
   "source": [
    "dtc_report_train = classification_report(ytrain, y_train_pred_count)\n",
    "dtc_report_test = classification_report(ytest, y_test_pred_count)\n",
    "print('                    Training Report          ')\n",
    "print(dtc_report_train)\n",
    "print('                    Testing Report           ')\n",
    "print(dtc_report_test)"
   ]
  },
  {
   "cell_type": "code",
   "execution_count": 101,
   "metadata": {
    "colab": {
     "base_uri": "https://localhost:8080/",
     "height": 493
    },
    "colab_type": "code",
    "executionInfo": {
     "elapsed": 387244,
     "status": "ok",
     "timestamp": 1591249304476,
     "user": {
      "displayName": "Prerna Bajaj",
      "photoUrl": "",
      "userId": "11609015255205782524"
     },
     "user_tz": -330
    },
    "id": "NRdG2LhPWAJ8",
    "outputId": "12a77197-c8b0-4b27-d66c-24097c576448"
   },
   "outputs": [
    {
     "data": {
      "image/png": "[encoded data removed]",
      "text/plain": [
       "<Figure size 1080x504 with 2 Axes>"
      ]
     },
     "metadata": {
      "needs_background": "light",
      "tags": []
     },
     "output_type": "display_data"
    }
   ],
   "source": [
    "figure = plt.figure(figsize = [15, 7])\n",
    "plt.subplot(1, 2, 1)\n",
    "plot_precision_recall(y_true = ytrain, y_pred = y_train_pred_proba[:,1], train_or_test ='Train Data')\n",
    "\n",
    "plt.subplot(1, 2, 2)\n",
    "plot_precision_recall(y_true = ytest, y_pred = y_test_pred_proba[:, 1], train_or_test = 'Test Data')\n",
    "\n",
    "plt.suptitle('Precision & Recall Curve', size = 16)\n",
    "plt.show()"
   ]
  },
  {
   "cell_type": "markdown",
   "metadata": {
    "colab_type": "text",
    "id": "Ea4aYFT6vbhA"
   },
   "source": [
    "**Observation:**\n",
    "\n",
    "- We can see that **average precision** for **training data is 100%** while **for testing data it is 55%**.\n",
    "- The **average recall** for **training data is 50%** while **for testing data it is 47%**."
   ]
  },
  {
   "cell_type": "code",
   "execution_count": 102,
   "metadata": {
    "colab": {
     "base_uri": "https://localhost:8080/",
     "height": 468
    },
    "colab_type": "code",
    "executionInfo": {
     "elapsed": 387235,
     "status": "ok",
     "timestamp": 1591249304478,
     "user": {
      "displayName": "Prerna Bajaj",
      "photoUrl": "",
      "userId": "11609015255205782524"
     },
     "user_tz": -330
    },
    "id": "riMURQwxWAAG",
    "outputId": "0866ef76-a993-4168-8f09-3539312bbd75"
   },
   "outputs": [
    {
     "data": {
      "image/png": "[encoded data removed]",
      "text/plain": [
       "<Figure size 864x504 with 4 Axes>"
      ]
     },
     "metadata": {
      "needs_background": "light",
      "tags": []
     },
     "output_type": "display_data"
    }
   ],
   "source": [
    "fig, (ax1, ax2) = plt.subplots(nrows = 1, ncols = 2, sharex = False, figsize=(12, 7))\n",
    "plot_confusion_matrix(estimator = dtc, X = xtrain, y_true = ytrain, values_format = '.5g', cmap = 'Blues', ax = ax1)\n",
    "plot_confusion_matrix(estimator = dtc, X = xtest, y_true = ytest, values_format = '.5g', cmap = 'Blues', ax = ax2)\n",
    "ax1.set_title(label = 'Train Data', size = 12)\n",
    "ax2.set_title(label = 'Test Data', size = 12)\n",
    "ax1.grid(b = False)\n",
    "ax2.grid(b = False)\n",
    "plt.suptitle(t = 'Confusion Matrix', size = 12)\n",
    "plt.show()"
   ]
  },
  {
   "cell_type": "markdown",
   "metadata": {
    "colab_type": "text",
    "id": "c48170-Qy8ai"
   },
   "source": [
    "**Observation:**\n",
    "\n",
    "- **Train Data:**\n",
    "  - Model predicted **24811 instances correctly** for **negative class** while **8293 instances** were predicted **correctly** for **positive class**.\n",
    "  - Model **identified 0 instances negative but in actual** they **were positive**.\n",
    "  - Model **identified 0 instances positive but in actual** they **were negative**.\n",
    "\n",
    "- **Test Data:**\n",
    "  - Model predicted **9722 instances correctly** for **negative class** while **1630 instances** were predicted **correctly** for **positive class**.\n",
    "  - Model **identified 2496 instance negative but in actual** they **were positive**.\n",
    "  - Model **identified 2458 instances positive but in actual** they **were negative**."
   ]
  },
  {
   "cell_type": "markdown",
   "metadata": {
    "colab_type": "text",
    "id": "iT8ISHiUIse8"
   },
   "source": [
    "\n",
    "---\n",
    "<a id = Section8></a>\n",
    "\n",
    "# **8. Conclusion**\n",
    "---\n",
    "\n",
    "**Observations:**\n",
    "\n",
    "- We **studied in depth about the data**, its **characteristics** and its **distribution**.\n",
    "\n",
    "- We **explored various questions** related to the variation in genes and their classification as conflicting and non-conflicting.\n",
    "\n",
    "- We **investigated in depth about the features** which to **retain** and which to **discard**.\n",
    "  \n",
    "- We **performed model development** with **variety** of **algorithms** and at **final stage Gradient Boosting Classifier outperformed all the models** because of **low error**.\n",
    "\n",
    "- This **final model** now can **help us** in **identifying** whether a **ClinVar variant will have conflicting classifications**."
   ]
  }
 ],
 "metadata": {
  "colab": {
   "collapsed_sections": [],
   "name": "Genetic Variant Classification.ipynb",
   "provenance": []
  },
  "kernelspec": {
   "display_name": "Python 3",
   "language": "python",
   "name": "python3"
  },
  "language_info": {
   "codemirror_mode": {
    "name": "ipython",
    "version": 3
   },
   "file_extension": ".py",
   "mimetype": "text/x-python",
   "name": "python",
   "nbconvert_exporter": "python",
   "pygments_lexer": "ipython3",
   "version": "3.7.3"
  }
 },
 "nbformat": 4,
 "nbformat_minor": 1
}
